{
  "nbformat": 4,
  "nbformat_minor": 0,
  "metadata": {
    "kernelspec": {
      "display_name": "Python 3",
      "language": "python",
      "name": "python3"
    },
    "language_info": {
      "codemirror_mode": {
        "name": "ipython",
        "version": 3
      },
      "file_extension": ".py",
      "mimetype": "text/x-python",
      "name": "python",
      "nbconvert_exporter": "python",
      "pygments_lexer": "ipython3",
      "version": "3.7.7"
    },
    "colab": {
      "name": "Preserving Privacy for Medical Data.ipynb",
      "provenance": [],
      "collapsed_sections": [],
      "toc_visible": true
    },
    "accelerator": "GPU"
  },
  "cells": [
    {
      "cell_type": "markdown",
      "metadata": {
        "id": "7QqE2N2TIRFU"
      },
      "source": [
        "# Privacy-Preserving for Medical Data\n",
        "\n",
        "Description: A text classifier that classifies the medical specialty on a given diagnosis data without compromising security. <br>"
      ]
    },
    {
      "cell_type": "code",
      "metadata": {
        "colab": {
          "base_uri": "https://localhost:8080/"
        },
        "id": "-cyJKPBklu2d",
        "outputId": "49abb3c1-9044-43f7-f8e5-fe86c7675348"
      },
      "source": [
        "from google.colab import drive\n",
        "drive.mount('/content/drive')"
      ],
      "execution_count": null,
      "outputs": [
        {
          "output_type": "stream",
          "text": [
            "Drive already mounted at /content/drive; to attempt to forcibly remount, call drive.mount(\"/content/drive\", force_remount=True).\n"
          ],
          "name": "stdout"
        }
      ]
    },
    {
      "cell_type": "code",
      "metadata": {
        "colab": {
          "base_uri": "https://localhost:8080/"
        },
        "id": "aYlXPHWKtb9L",
        "outputId": "4c33da62-e9b9-43ab-9dc9-15e930d2f3a6"
      },
      "source": [
        "%cd '/content/drive/My Drive/Colab Notebooks/DeepLearning'"
      ],
      "execution_count": null,
      "outputs": [
        {
          "output_type": "stream",
          "text": [
            "/content/drive/My Drive/Colab Notebooks/DeepLearning\n"
          ],
          "name": "stdout"
        }
      ]
    },
    {
      "cell_type": "code",
      "metadata": {
        "scrolled": true,
        "id": "l2BtKTYaIRFU",
        "colab": {
          "base_uri": "https://localhost:8080/"
        },
        "outputId": "936d5619-3bfa-4b9f-8893-d7b50b7a753a"
      },
      "source": [
        "!pip install -r 'requirements.txt'"
      ],
      "execution_count": null,
      "outputs": [
        {
          "output_type": "stream",
          "text": [
            "Requirement already satisfied: numpy in /usr/local/lib/python3.6/dist-packages (from -r requirements.txt (line 1)) (1.18.5)\n",
            "Requirement already satisfied: matplotlib in /usr/local/lib/python3.6/dist-packages (from -r requirements.txt (line 2)) (3.2.2)\n",
            "Requirement already satisfied: seaborn in /usr/local/lib/python3.6/dist-packages (from -r requirements.txt (line 3)) (0.11.0)\n",
            "Requirement already satisfied: sklearn in /usr/local/lib/python3.6/dist-packages (from -r requirements.txt (line 4)) (0.0)\n",
            "Requirement already satisfied: tensorboard>=2.2.0 in /usr/local/lib/python3.6/dist-packages (from -r requirements.txt (line 5)) (2.3.0)\n",
            "Requirement already satisfied: tqdm in /usr/local/lib/python3.6/dist-packages (from -r requirements.txt (line 6)) (4.41.1)\n",
            "Requirement already satisfied: syft==0.2.5 in /usr/local/lib/python3.6/dist-packages (from -r requirements.txt (line 7)) (0.2.5)\n",
            "Requirement already satisfied: kiwisolver>=1.0.1 in /usr/local/lib/python3.6/dist-packages (from matplotlib->-r requirements.txt (line 2)) (1.3.1)\n",
            "Requirement already satisfied: pyparsing!=2.0.4,!=2.1.2,!=2.1.6,>=2.0.1 in /usr/local/lib/python3.6/dist-packages (from matplotlib->-r requirements.txt (line 2)) (2.4.7)\n",
            "Requirement already satisfied: cycler>=0.10 in /usr/local/lib/python3.6/dist-packages (from matplotlib->-r requirements.txt (line 2)) (0.10.0)\n",
            "Requirement already satisfied: python-dateutil>=2.1 in /usr/local/lib/python3.6/dist-packages (from matplotlib->-r requirements.txt (line 2)) (2.8.1)\n",
            "Requirement already satisfied: scipy>=1.0 in /usr/local/lib/python3.6/dist-packages (from seaborn->-r requirements.txt (line 3)) (1.4.1)\n",
            "Requirement already satisfied: pandas>=0.23 in /usr/local/lib/python3.6/dist-packages (from seaborn->-r requirements.txt (line 3)) (1.1.4)\n",
            "Requirement already satisfied: scikit-learn in /usr/local/lib/python3.6/dist-packages (from sklearn->-r requirements.txt (line 4)) (0.22.2.post1)\n",
            "Requirement already satisfied: wheel>=0.26; python_version >= \"3\" in /usr/local/lib/python3.6/dist-packages (from tensorboard>=2.2.0->-r requirements.txt (line 5)) (0.35.1)\n",
            "Requirement already satisfied: absl-py>=0.4 in /usr/local/lib/python3.6/dist-packages (from tensorboard>=2.2.0->-r requirements.txt (line 5)) (0.10.0)\n",
            "Requirement already satisfied: protobuf>=3.6.0 in /usr/local/lib/python3.6/dist-packages (from tensorboard>=2.2.0->-r requirements.txt (line 5)) (3.12.4)\n",
            "Requirement already satisfied: google-auth<2,>=1.6.3 in /usr/local/lib/python3.6/dist-packages (from tensorboard>=2.2.0->-r requirements.txt (line 5)) (1.17.2)\n",
            "Requirement already satisfied: markdown>=2.6.8 in /usr/local/lib/python3.6/dist-packages (from tensorboard>=2.2.0->-r requirements.txt (line 5)) (3.3.3)\n",
            "Requirement already satisfied: six>=1.10.0 in /usr/local/lib/python3.6/dist-packages (from tensorboard>=2.2.0->-r requirements.txt (line 5)) (1.15.0)\n",
            "Requirement already satisfied: google-auth-oauthlib<0.5,>=0.4.1 in /usr/local/lib/python3.6/dist-packages (from tensorboard>=2.2.0->-r requirements.txt (line 5)) (0.4.2)\n",
            "Requirement already satisfied: tensorboard-plugin-wit>=1.6.0 in /usr/local/lib/python3.6/dist-packages (from tensorboard>=2.2.0->-r requirements.txt (line 5)) (1.7.0)\n",
            "Requirement already satisfied: requests<3,>=2.21.0 in /usr/local/lib/python3.6/dist-packages (from tensorboard>=2.2.0->-r requirements.txt (line 5)) (2.22.0)\n",
            "Requirement already satisfied: setuptools>=41.0.0 in /usr/local/lib/python3.6/dist-packages (from tensorboard>=2.2.0->-r requirements.txt (line 5)) (50.3.2)\n",
            "Requirement already satisfied: werkzeug>=0.11.15 in /usr/local/lib/python3.6/dist-packages (from tensorboard>=2.2.0->-r requirements.txt (line 5)) (1.0.1)\n",
            "Requirement already satisfied: grpcio>=1.24.3 in /usr/local/lib/python3.6/dist-packages (from tensorboard>=2.2.0->-r requirements.txt (line 5)) (1.33.2)\n",
            "Requirement already satisfied: Flask~=1.1.1 in /usr/local/lib/python3.6/dist-packages (from syft==0.2.5->-r requirements.txt (line 7)) (1.1.2)\n",
            "Requirement already satisfied: Pillow~=6.2.2 in /usr/local/lib/python3.6/dist-packages (from syft==0.2.5->-r requirements.txt (line 7)) (6.2.2)\n",
            "Requirement already satisfied: tornado==4.5.3 in /usr/local/lib/python3.6/dist-packages (from syft==0.2.5->-r requirements.txt (line 7)) (4.5.3)\n",
            "Requirement already satisfied: torchvision~=0.5.0 in /usr/local/lib/python3.6/dist-packages (from syft==0.2.5->-r requirements.txt (line 7)) (0.5.0)\n",
            "Requirement already satisfied: websocket-client~=0.57.0 in /usr/local/lib/python3.6/dist-packages (from syft==0.2.5->-r requirements.txt (line 7)) (0.57.0)\n",
            "Requirement already satisfied: websockets~=8.1.0 in /usr/local/lib/python3.6/dist-packages (from syft==0.2.5->-r requirements.txt (line 7)) (8.1)\n",
            "Requirement already satisfied: tblib~=1.6.0 in /usr/local/lib/python3.6/dist-packages (from syft==0.2.5->-r requirements.txt (line 7)) (1.6.0)\n",
            "Requirement already satisfied: phe~=1.4.0 in /usr/local/lib/python3.6/dist-packages (from syft==0.2.5->-r requirements.txt (line 7)) (1.4.0)\n",
            "Requirement already satisfied: lz4~=3.0.2 in /usr/local/lib/python3.6/dist-packages (from syft==0.2.5->-r requirements.txt (line 7)) (3.0.2)\n",
            "Requirement already satisfied: syft-proto~=0.4.1 in /usr/local/lib/python3.6/dist-packages (from syft==0.2.5->-r requirements.txt (line 7)) (0.4.10)\n",
            "Requirement already satisfied: msgpack~=1.0.0 in /usr/local/lib/python3.6/dist-packages (from syft==0.2.5->-r requirements.txt (line 7)) (1.0.0)\n",
            "Requirement already satisfied: flask-socketio~=4.2.1 in /usr/local/lib/python3.6/dist-packages (from syft==0.2.5->-r requirements.txt (line 7)) (4.2.1)\n",
            "Requirement already satisfied: torch~=1.4.0 in /usr/local/lib/python3.6/dist-packages (from syft==0.2.5->-r requirements.txt (line 7)) (1.4.0)\n",
            "Requirement already satisfied: pytz>=2017.2 in /usr/local/lib/python3.6/dist-packages (from pandas>=0.23->seaborn->-r requirements.txt (line 3)) (2018.9)\n",
            "Requirement already satisfied: joblib>=0.11 in /usr/local/lib/python3.6/dist-packages (from scikit-learn->sklearn->-r requirements.txt (line 4)) (0.17.0)\n",
            "Requirement already satisfied: cachetools<5.0,>=2.0.0 in /usr/local/lib/python3.6/dist-packages (from google-auth<2,>=1.6.3->tensorboard>=2.2.0->-r requirements.txt (line 5)) (4.1.1)\n",
            "Requirement already satisfied: rsa<5,>=3.1.4; python_version >= \"3\" in /usr/local/lib/python3.6/dist-packages (from google-auth<2,>=1.6.3->tensorboard>=2.2.0->-r requirements.txt (line 5)) (4.6)\n",
            "Requirement already satisfied: pyasn1-modules>=0.2.1 in /usr/local/lib/python3.6/dist-packages (from google-auth<2,>=1.6.3->tensorboard>=2.2.0->-r requirements.txt (line 5)) (0.2.8)\n",
            "Requirement already satisfied: importlib-metadata; python_version < \"3.8\" in /usr/local/lib/python3.6/dist-packages (from markdown>=2.6.8->tensorboard>=2.2.0->-r requirements.txt (line 5)) (2.0.0)\n",
            "Requirement already satisfied: requests-oauthlib>=0.7.0 in /usr/local/lib/python3.6/dist-packages (from google-auth-oauthlib<0.5,>=0.4.1->tensorboard>=2.2.0->-r requirements.txt (line 5)) (1.3.0)\n",
            "Requirement already satisfied: idna<2.9,>=2.5 in /usr/local/lib/python3.6/dist-packages (from requests<3,>=2.21.0->tensorboard>=2.2.0->-r requirements.txt (line 5)) (2.8)\n",
            "Requirement already satisfied: certifi>=2017.4.17 in /usr/local/lib/python3.6/dist-packages (from requests<3,>=2.21.0->tensorboard>=2.2.0->-r requirements.txt (line 5)) (2020.11.8)\n",
            "Requirement already satisfied: urllib3!=1.25.0,!=1.25.1,<1.26,>=1.21.1 in /usr/local/lib/python3.6/dist-packages (from requests<3,>=2.21.0->tensorboard>=2.2.0->-r requirements.txt (line 5)) (1.24.3)\n",
            "Requirement already satisfied: chardet<3.1.0,>=3.0.2 in /usr/local/lib/python3.6/dist-packages (from requests<3,>=2.21.0->tensorboard>=2.2.0->-r requirements.txt (line 5)) (3.0.4)\n",
            "Requirement already satisfied: itsdangerous>=0.24 in /usr/local/lib/python3.6/dist-packages (from Flask~=1.1.1->syft==0.2.5->-r requirements.txt (line 7)) (1.1.0)\n",
            "Requirement already satisfied: Jinja2>=2.10.1 in /usr/local/lib/python3.6/dist-packages (from Flask~=1.1.1->syft==0.2.5->-r requirements.txt (line 7)) (2.11.2)\n",
            "Requirement already satisfied: click>=5.1 in /usr/local/lib/python3.6/dist-packages (from Flask~=1.1.1->syft==0.2.5->-r requirements.txt (line 7)) (7.1.2)\n",
            "Requirement already satisfied: python-socketio>=4.3.0 in /usr/local/lib/python3.6/dist-packages (from flask-socketio~=4.2.1->syft==0.2.5->-r requirements.txt (line 7)) (5.0.1)\n",
            "Requirement already satisfied: pyasn1>=0.1.3 in /usr/local/lib/python3.6/dist-packages (from rsa<5,>=3.1.4; python_version >= \"3\"->google-auth<2,>=1.6.3->tensorboard>=2.2.0->-r requirements.txt (line 5)) (0.4.8)\n",
            "Requirement already satisfied: zipp>=0.5 in /usr/local/lib/python3.6/dist-packages (from importlib-metadata; python_version < \"3.8\"->markdown>=2.6.8->tensorboard>=2.2.0->-r requirements.txt (line 5)) (3.4.0)\n",
            "Requirement already satisfied: oauthlib>=3.0.0 in /usr/local/lib/python3.6/dist-packages (from requests-oauthlib>=0.7.0->google-auth-oauthlib<0.5,>=0.4.1->tensorboard>=2.2.0->-r requirements.txt (line 5)) (3.1.0)\n",
            "Requirement already satisfied: MarkupSafe>=0.23 in /usr/local/lib/python3.6/dist-packages (from Jinja2>=2.10.1->Flask~=1.1.1->syft==0.2.5->-r requirements.txt (line 7)) (1.1.1)\n",
            "Requirement already satisfied: python-engineio>=4 in /usr/local/lib/python3.6/dist-packages (from python-socketio>=4.3.0->flask-socketio~=4.2.1->syft==0.2.5->-r requirements.txt (line 7)) (4.0.0)\n",
            "Requirement already satisfied: bidict>=0.21.0 in /usr/local/lib/python3.6/dist-packages (from python-socketio>=4.3.0->flask-socketio~=4.2.1->syft==0.2.5->-r requirements.txt (line 7)) (0.21.2)\n"
          ],
          "name": "stdout"
        }
      ]
    },
    {
      "cell_type": "markdown",
      "metadata": {
        "id": "xHTzU_gqIRFU"
      },
      "source": [
        "## Exploratory Data Analysis\n"
      ]
    },
    {
      "cell_type": "code",
      "metadata": {
        "id": "vn2knXZUIRFU"
      },
      "source": [
        "import pandas as pd\n",
        "df = pd.read_csv('./data/mtsamples.csv', delimiter=',')\n",
        "df.dataframeName = 'mtsamples.csv'"
      ],
      "execution_count": null,
      "outputs": []
    },
    {
      "cell_type": "code",
      "metadata": {
        "id": "BZrEHvJ_IRFU",
        "colab": {
          "base_uri": "https://localhost:8080/",
          "height": 306
        },
        "outputId": "581bae0e-ec7d-4083-dc37-29bf9f0fe05c"
      },
      "source": [
        "df.head()"
      ],
      "execution_count": null,
      "outputs": [
        {
          "output_type": "execute_result",
          "data": {
            "text/html": [
              "<div>\n",
              "<style scoped>\n",
              "    .dataframe tbody tr th:only-of-type {\n",
              "        vertical-align: middle;\n",
              "    }\n",
              "\n",
              "    .dataframe tbody tr th {\n",
              "        vertical-align: top;\n",
              "    }\n",
              "\n",
              "    .dataframe thead th {\n",
              "        text-align: right;\n",
              "    }\n",
              "</style>\n",
              "<table border=\"1\" class=\"dataframe\">\n",
              "  <thead>\n",
              "    <tr style=\"text-align: right;\">\n",
              "      <th></th>\n",
              "      <th>Unnamed: 0</th>\n",
              "      <th>description</th>\n",
              "      <th>medical_specialty</th>\n",
              "      <th>sample_name</th>\n",
              "      <th>transcription</th>\n",
              "      <th>keywords</th>\n",
              "    </tr>\n",
              "  </thead>\n",
              "  <tbody>\n",
              "    <tr>\n",
              "      <th>0</th>\n",
              "      <td>0</td>\n",
              "      <td>A 23-year-old white female presents with comp...</td>\n",
              "      <td>Allergy / Immunology</td>\n",
              "      <td>Allergic Rhinitis</td>\n",
              "      <td>SUBJECTIVE:,  This 23-year-old white female pr...</td>\n",
              "      <td>allergy / immunology, allergic rhinitis, aller...</td>\n",
              "    </tr>\n",
              "    <tr>\n",
              "      <th>1</th>\n",
              "      <td>1</td>\n",
              "      <td>Consult for laparoscopic gastric bypass.</td>\n",
              "      <td>Bariatrics</td>\n",
              "      <td>Laparoscopic Gastric Bypass Consult - 2</td>\n",
              "      <td>PAST MEDICAL HISTORY:, He has difficulty climb...</td>\n",
              "      <td>bariatrics, laparoscopic gastric bypass, weigh...</td>\n",
              "    </tr>\n",
              "    <tr>\n",
              "      <th>2</th>\n",
              "      <td>2</td>\n",
              "      <td>Consult for laparoscopic gastric bypass.</td>\n",
              "      <td>Bariatrics</td>\n",
              "      <td>Laparoscopic Gastric Bypass Consult - 1</td>\n",
              "      <td>HISTORY OF PRESENT ILLNESS: , I have seen ABC ...</td>\n",
              "      <td>bariatrics, laparoscopic gastric bypass, heart...</td>\n",
              "    </tr>\n",
              "    <tr>\n",
              "      <th>3</th>\n",
              "      <td>3</td>\n",
              "      <td>2-D M-Mode. Doppler.</td>\n",
              "      <td>Cardiovascular / Pulmonary</td>\n",
              "      <td>2-D Echocardiogram - 1</td>\n",
              "      <td>2-D M-MODE: , ,1.  Left atrial enlargement wit...</td>\n",
              "      <td>cardiovascular / pulmonary, 2-d m-mode, dopple...</td>\n",
              "    </tr>\n",
              "    <tr>\n",
              "      <th>4</th>\n",
              "      <td>4</td>\n",
              "      <td>2-D Echocardiogram</td>\n",
              "      <td>Cardiovascular / Pulmonary</td>\n",
              "      <td>2-D Echocardiogram - 2</td>\n",
              "      <td>1.  The left ventricular cavity size and wall ...</td>\n",
              "      <td>cardiovascular / pulmonary, 2-d, doppler, echo...</td>\n",
              "    </tr>\n",
              "  </tbody>\n",
              "</table>\n",
              "</div>"
            ],
            "text/plain": [
              "   Unnamed: 0  ...                                           keywords\n",
              "0           0  ...  allergy / immunology, allergic rhinitis, aller...\n",
              "1           1  ...  bariatrics, laparoscopic gastric bypass, weigh...\n",
              "2           2  ...  bariatrics, laparoscopic gastric bypass, heart...\n",
              "3           3  ...  cardiovascular / pulmonary, 2-d m-mode, dopple...\n",
              "4           4  ...  cardiovascular / pulmonary, 2-d, doppler, echo...\n",
              "\n",
              "[5 rows x 6 columns]"
            ]
          },
          "metadata": {
            "tags": []
          },
          "execution_count": 14
        }
      ]
    },
    {
      "cell_type": "markdown",
      "metadata": {
        "id": "R4LUdMfnIRFV"
      },
      "source": [
        "### Handle Missing Data"
      ]
    },
    {
      "cell_type": "code",
      "metadata": {
        "id": "bHg3_PQUIRFV",
        "colab": {
          "base_uri": "https://localhost:8080/"
        },
        "outputId": "44fc3eb2-5e53-435e-df11-faa329d30507"
      },
      "source": [
        "df.isnull().sum(axis = 0)"
      ],
      "execution_count": null,
      "outputs": [
        {
          "output_type": "execute_result",
          "data": {
            "text/plain": [
              "Unnamed: 0              0\n",
              "description             0\n",
              "medical_specialty       0\n",
              "sample_name             0\n",
              "transcription          33\n",
              "keywords             1068\n",
              "dtype: int64"
            ]
          },
          "metadata": {
            "tags": []
          },
          "execution_count": 15
        }
      ]
    },
    {
      "cell_type": "code",
      "metadata": {
        "id": "zp_iuMuPIRFV"
      },
      "source": [
        "df['transcription'].fillna(df['description'], inplace=True)"
      ],
      "execution_count": null,
      "outputs": []
    },
    {
      "cell_type": "markdown",
      "metadata": {
        "id": "K9DUTf3KIRFV"
      },
      "source": [
        "List out the unique specialties in the dataset."
      ]
    },
    {
      "cell_type": "code",
      "metadata": {
        "id": "UOHOeSUiIRFV",
        "colab": {
          "base_uri": "https://localhost:8080/"
        },
        "outputId": "2186ebe8-8715-49d8-ca2d-9a0de0296f78"
      },
      "source": [
        "len(df['medical_specialty'].unique())"
      ],
      "execution_count": null,
      "outputs": [
        {
          "output_type": "execute_result",
          "data": {
            "text/plain": [
              "40"
            ]
          },
          "metadata": {
            "tags": []
          },
          "execution_count": 17
        }
      ]
    },
    {
      "cell_type": "markdown",
      "metadata": {
        "id": "moMBXep_IRFV"
      },
      "source": [
        "and what each specialty frequencies is"
      ]
    },
    {
      "cell_type": "code",
      "metadata": {
        "id": "bhh7vPdkIRFV",
        "colab": {
          "base_uri": "https://localhost:8080/"
        },
        "outputId": "8d4b3e97-0d8a-4efb-dca2-3795c1d0789b"
      },
      "source": [
        "df['medical_specialty'].value_counts()"
      ],
      "execution_count": null,
      "outputs": [
        {
          "output_type": "execute_result",
          "data": {
            "text/plain": [
              " Surgery                          1103\n",
              " Consult - History and Phy.        516\n",
              " Cardiovascular / Pulmonary        372\n",
              " Orthopedic                        355\n",
              " Radiology                         273\n",
              " General Medicine                  259\n",
              " Gastroenterology                  230\n",
              " Neurology                         223\n",
              " SOAP / Chart / Progress Notes     166\n",
              " Obstetrics / Gynecology           160\n",
              " Urology                           158\n",
              " Discharge Summary                 108\n",
              " ENT - Otolaryngology               98\n",
              " Neurosurgery                       94\n",
              " Hematology - Oncology              90\n",
              " Ophthalmology                      83\n",
              " Nephrology                         81\n",
              " Emergency Room Reports             75\n",
              " Pediatrics - Neonatal              70\n",
              " Pain Management                    62\n",
              " Psychiatry / Psychology            53\n",
              " Office Notes                       51\n",
              " Podiatry                           47\n",
              " Dermatology                        29\n",
              " Cosmetic / Plastic Surgery         27\n",
              " Dentistry                          27\n",
              " Letters                            23\n",
              " Physical Medicine - Rehab          21\n",
              " Sleep Medicine                     20\n",
              " Endocrinology                      19\n",
              " Bariatrics                         18\n",
              " IME-QME-Work Comp etc.             16\n",
              " Chiropractic                       14\n",
              " Rheumatology                       10\n",
              " Diets and Nutritions               10\n",
              " Speech - Language                   9\n",
              " Lab Medicine - Pathology            8\n",
              " Autopsy                             8\n",
              " Allergy / Immunology                7\n",
              " Hospice - Palliative Care           6\n",
              "Name: medical_specialty, dtype: int64"
            ]
          },
          "metadata": {
            "tags": []
          },
          "execution_count": 18
        }
      ]
    },
    {
      "cell_type": "markdown",
      "metadata": {
        "id": "MZNd9G7cIRFV"
      },
      "source": [
        "### Data Visualization"
      ]
    },
    {
      "cell_type": "code",
      "metadata": {
        "id": "yuujt9AGIRFV"
      },
      "source": [
        "import matplotlib.pyplot as plt\n",
        "import seaborn as sb\n",
        "\n",
        "sb.set()"
      ],
      "execution_count": null,
      "outputs": []
    },
    {
      "cell_type": "code",
      "metadata": {
        "id": "UWpRqDmhIRFV",
        "colab": {
          "base_uri": "https://localhost:8080/",
          "height": 339
        },
        "outputId": "178ba736-840c-442e-9c87-fc763c015ff2"
      },
      "source": [
        "sb.distplot(df['medical_specialty'].value_counts());"
      ],
      "execution_count": null,
      "outputs": [
        {
          "output_type": "stream",
          "text": [
            "/usr/local/lib/python3.6/dist-packages/seaborn/distributions.py:2551: FutureWarning: `distplot` is a deprecated function and will be removed in a future version. Please adapt your code to use either `displot` (a figure-level function with similar flexibility) or `histplot` (an axes-level function for histograms).\n",
            "  warnings.warn(msg, FutureWarning)\n"
          ],
          "name": "stderr"
        },
        {
          "output_type": "display_data",
          "data": {
            "image/png": "[encoded data removed]",
            "text/plain": [
              "<Figure size 432x288 with 1 Axes>"
            ]
          },
          "metadata": {
            "tags": []
          }
        }
      ]
    },
    {
      "cell_type": "code",
      "metadata": {
        "id": "J-tOa8GFIRFV"
      },
      "source": [
        "# Code: https://help.gooddata.com/doc/en/reporting-and-dashboards/maql-analytical-query-language/maql-expression-reference/aggregation-functions/statistical-functions/predictive-statistical-use-cases/normality-testing-skewness-and-kurtosis#:~:text=As%20a%20general%20rule%20of,the%20distribution%20is%20approximately%20symmetric.\n",
        "def normality_testing(sk, kt):\n",
        "    sk = round(sk, 3)\n",
        "    kt = round(kt, 3)\n",
        "    if kt > 0:\n",
        "        print(\"positive kurtosis =\",kt) \n",
        "    else:\n",
        "        print(\"negative kurtosis (less normal) = \",kt) \n",
        "    \n",
        "    if abs(sk) > 1:\n",
        "        print(\"skewness =\",sk,\"\\nThe distribution is highly skewed\")\n",
        "    elif abs(sk >= 0.5):\n",
        "        print(\"skewness =\",sk,\"\\nThe distribution is moderately skewed\")\n",
        "    else:\n",
        "        print(\"skewness =\",sk,\"\\nThe distribution is approximately symmetric\")"
      ],
      "execution_count": null,
      "outputs": []
    },
    {
      "cell_type": "code",
      "metadata": {
        "id": "nOodoxrFIRFV",
        "colab": {
          "base_uri": "https://localhost:8080/"
        },
        "outputId": "92d7a25a-d10c-43a2-e695-9e45a5e52b49"
      },
      "source": [
        "skewness = df['medical_specialty'].value_counts().skew()\n",
        "kurtosis = df['medical_specialty'].value_counts().kurt()\n",
        "\n",
        "normality_testing(skewness, kurtosis)"
      ],
      "execution_count": null,
      "outputs": [
        {
          "output_type": "stream",
          "text": [
            "positive kurtosis = 15.336\n",
            "skewness = 3.516 \n",
            "The distribution is highly skewed\n"
          ],
          "name": "stdout"
        }
      ]
    },
    {
      "cell_type": "code",
      "metadata": {
        "id": "WPhAOW7EIRFV",
        "colab": {
          "base_uri": "https://localhost:8080/",
          "height": 1000
        },
        "outputId": "d54c9179-2bcb-4bf1-ac05-85f41938b2f6"
      },
      "source": [
        "df['medical_specialty'].value_counts()[:40].plot(kind='barh', figsize=(15,25), fontsize=16)"
      ],
      "execution_count": null,
      "outputs": [
        {
          "output_type": "execute_result",
          "data": {
            "text/plain": [
              "<matplotlib.axes._subplots.AxesSubplot at 0x7fbc38a14a90>"
            ]
          },
          "metadata": {
            "tags": []
          },
          "execution_count": 23
        },
        {
          "output_type": "display_data",
          "data": {
            "image/png": "[encoded data removed]",
            "text/plain": [
              "<Figure size 1080x1800 with 1 Axes>"
            ]
          },
          "metadata": {
            "tags": []
          }
        }
      ]
    },
    {
      "cell_type": "code",
      "metadata": {
        "scrolled": true,
        "id": "TyGEjNngIRFV",
        "colab": {
          "base_uri": "https://localhost:8080/",
          "height": 571
        },
        "outputId": "0df52fab-a7da-48a6-f27d-c8a5ea024f02"
      },
      "source": [
        "fig, ax = plt.subplots(figsize = (12,6)) # set size of figure\n",
        "specialty = df['medical_specialty'].value_counts()\n",
        "specialty = specialty[:8,]\n",
        "g = sb.barplot(specialty.index, specialty.values, alpha=0.8)\n",
        "\n",
        "plt.title(\"Top 8 Specialties in Medical Transcriptions\")\n",
        "plt.ylabel(\"Frequency\", fontsize=12)\n",
        "plt.xlabel(\"Top 8 Specialties out of 40 total\", fontsize=14)\n",
        "\n",
        "g.set_xticklabels(g.get_xticklabels(), rotation=45)\n",
        "plt.show()"
      ],
      "execution_count": null,
      "outputs": [
        {
          "output_type": "stream",
          "text": [
            "/usr/local/lib/python3.6/dist-packages/seaborn/_decorators.py:43: FutureWarning: Pass the following variables as keyword args: x, y. From version 0.12, the only valid positional argument will be `data`, and passing other arguments without an explicit keyword will result in an error or misinterpretation.\n",
            "  FutureWarning\n"
          ],
          "name": "stderr"
        },
        {
          "output_type": "display_data",
          "data": {
            "image/png": "[encoded data removed]",
            "text/plain": [
              "<Figure size 864x432 with 1 Axes>"
            ]
          },
          "metadata": {
            "tags": []
          }
        }
      ]
    },
    {
      "cell_type": "markdown",
      "metadata": {
        "id": "tETSBHQqIRFW"
      },
      "source": [
        "\n",
        "### Select necessary features\n"
      ]
    },
    {
      "cell_type": "code",
      "metadata": {
        "id": "LcBu1p-mIRFW",
        "colab": {
          "base_uri": "https://localhost:8080/",
          "height": 306
        },
        "outputId": "7d0a1e16-0f90-4350-c144-7545ee520a60"
      },
      "source": [
        "feature = 'medical_specialty'\n",
        "df[feature] = df[feature].str.replace(r'\\A ', '')\n",
        "df.head()"
      ],
      "execution_count": null,
      "outputs": [
        {
          "output_type": "execute_result",
          "data": {
            "text/html": [
              "<div>\n",
              "<style scoped>\n",
              "    .dataframe tbody tr th:only-of-type {\n",
              "        vertical-align: middle;\n",
              "    }\n",
              "\n",
              "    .dataframe tbody tr th {\n",
              "        vertical-align: top;\n",
              "    }\n",
              "\n",
              "    .dataframe thead th {\n",
              "        text-align: right;\n",
              "    }\n",
              "</style>\n",
              "<table border=\"1\" class=\"dataframe\">\n",
              "  <thead>\n",
              "    <tr style=\"text-align: right;\">\n",
              "      <th></th>\n",
              "      <th>Unnamed: 0</th>\n",
              "      <th>description</th>\n",
              "      <th>medical_specialty</th>\n",
              "      <th>sample_name</th>\n",
              "      <th>transcription</th>\n",
              "      <th>keywords</th>\n",
              "    </tr>\n",
              "  </thead>\n",
              "  <tbody>\n",
              "    <tr>\n",
              "      <th>0</th>\n",
              "      <td>0</td>\n",
              "      <td>A 23-year-old white female presents with comp...</td>\n",
              "      <td>Allergy / Immunology</td>\n",
              "      <td>Allergic Rhinitis</td>\n",
              "      <td>SUBJECTIVE:,  This 23-year-old white female pr...</td>\n",
              "      <td>allergy / immunology, allergic rhinitis, aller...</td>\n",
              "    </tr>\n",
              "    <tr>\n",
              "      <th>1</th>\n",
              "      <td>1</td>\n",
              "      <td>Consult for laparoscopic gastric bypass.</td>\n",
              "      <td>Bariatrics</td>\n",
              "      <td>Laparoscopic Gastric Bypass Consult - 2</td>\n",
              "      <td>PAST MEDICAL HISTORY:, He has difficulty climb...</td>\n",
              "      <td>bariatrics, laparoscopic gastric bypass, weigh...</td>\n",
              "    </tr>\n",
              "    <tr>\n",
              "      <th>2</th>\n",
              "      <td>2</td>\n",
              "      <td>Consult for laparoscopic gastric bypass.</td>\n",
              "      <td>Bariatrics</td>\n",
              "      <td>Laparoscopic Gastric Bypass Consult - 1</td>\n",
              "      <td>HISTORY OF PRESENT ILLNESS: , I have seen ABC ...</td>\n",
              "      <td>bariatrics, laparoscopic gastric bypass, heart...</td>\n",
              "    </tr>\n",
              "    <tr>\n",
              "      <th>3</th>\n",
              "      <td>3</td>\n",
              "      <td>2-D M-Mode. Doppler.</td>\n",
              "      <td>Cardiovascular / Pulmonary</td>\n",
              "      <td>2-D Echocardiogram - 1</td>\n",
              "      <td>2-D M-MODE: , ,1.  Left atrial enlargement wit...</td>\n",
              "      <td>cardiovascular / pulmonary, 2-d m-mode, dopple...</td>\n",
              "    </tr>\n",
              "    <tr>\n",
              "      <th>4</th>\n",
              "      <td>4</td>\n",
              "      <td>2-D Echocardiogram</td>\n",
              "      <td>Cardiovascular / Pulmonary</td>\n",
              "      <td>2-D Echocardiogram - 2</td>\n",
              "      <td>1.  The left ventricular cavity size and wall ...</td>\n",
              "      <td>cardiovascular / pulmonary, 2-d, doppler, echo...</td>\n",
              "    </tr>\n",
              "  </tbody>\n",
              "</table>\n",
              "</div>"
            ],
            "text/plain": [
              "   Unnamed: 0  ...                                           keywords\n",
              "0           0  ...  allergy / immunology, allergic rhinitis, aller...\n",
              "1           1  ...  bariatrics, laparoscopic gastric bypass, weigh...\n",
              "2           2  ...  bariatrics, laparoscopic gastric bypass, heart...\n",
              "3           3  ...  cardiovascular / pulmonary, 2-d m-mode, dopple...\n",
              "4           4  ...  cardiovascular / pulmonary, 2-d, doppler, echo...\n",
              "\n",
              "[5 rows x 6 columns]"
            ]
          },
          "metadata": {
            "tags": []
          },
          "execution_count": 25
        }
      ]
    },
    {
      "cell_type": "markdown",
      "metadata": {
        "id": "EdWBWp1-IRFW"
      },
      "source": [
        "### Dimensionality Reduction"
      ]
    },
    {
      "cell_type": "code",
      "metadata": {
        "id": "j1L0vdNRIRFW",
        "colab": {
          "base_uri": "https://localhost:8080/"
        },
        "outputId": "68e3889e-295d-41fd-8c02-bbaf04d14827"
      },
      "source": [
        "new_class = 'Internal Medicine'\n",
        "\n",
        "df[feature].mask(df[feature] == 'Hospice - Palliative Care', new_class, inplace=True)\n",
        "df[feature].mask(df[feature] == 'Pain Management', new_class, inplace=True)\n",
        "df[feature].mask(df[feature] == 'Sleep Medicine', new_class, inplace=True)\n",
        "df[feature].mask(df[feature] == 'Endocrinology', new_class, inplace=True)\n",
        "df[feature].mask(df[feature] == 'Gastroenterology', new_class, inplace=True)\n",
        "df[feature].mask(df[feature] == 'Hematology - Oncology', new_class, inplace=True)\n",
        "df[feature].mask(df[feature] == 'Nephrology', new_class, inplace=True)\n",
        "df[feature].mask(df[feature] == 'Rheumatology', new_class, inplace=True)\n",
        "df[feature].mask(df[feature] == 'Cardiovascular / Pulmonary', new_class, inplace=True)\n",
        "df[feature].mask(df[feature] == 'General Medicine', new_class, inplace=True)\n",
        "\n",
        "print(\"Reduced\",feature,\"to\",len(df[feature].unique()),\"total classes\")"
      ],
      "execution_count": null,
      "outputs": [
        {
          "output_type": "stream",
          "text": [
            "Reduced medical_specialty to 31 total classes\n"
          ],
          "name": "stdout"
        }
      ]
    },
    {
      "cell_type": "code",
      "metadata": {
        "id": "j6FCk4IWIRFW",
        "colab": {
          "base_uri": "https://localhost:8080/"
        },
        "outputId": "292de310-aac8-4390-dcbc-9c5eec90dcba"
      },
      "source": [
        "new_class = 'Surgery'\n",
        "\n",
        "df[feature].mask(df[feature] == 'Surgery', new_class, inplace=True)\n",
        "df[feature].mask(df[feature] == 'Cosmetic / Plastic Surgery', new_class, inplace=True)\n",
        "df[feature].mask(df[feature] == 'Neurosurgery', new_class, inplace=True)\n",
        "df[feature].mask(df[feature] == 'ENT - Otolaryngology', new_class, inplace=True)\n",
        "df[feature].mask(df[feature] == 'Obstetrics / Gynecology', new_class, inplace=True)\n",
        "df[feature].mask(df[feature] == 'Urology', new_class, inplace=True)\n",
        "\n",
        "print(\"Reduced\",feature,\"to\",len(df[feature].unique()),\"total classes\")"
      ],
      "execution_count": null,
      "outputs": [
        {
          "output_type": "stream",
          "text": [
            "Reduced medical_specialty to 26 total classes\n"
          ],
          "name": "stdout"
        }
      ]
    },
    {
      "cell_type": "code",
      "metadata": {
        "id": "cDBRRWMqIRFW",
        "colab": {
          "base_uri": "https://localhost:8080/"
        },
        "outputId": "3f959269-d23a-4466-f41d-ee6f99395921"
      },
      "source": [
        "new_class = 'Medical Records'\n",
        "\n",
        "df[feature].mask(df[feature] == 'Consult - History and Phy.', new_class, inplace=True)\n",
        "df[feature].mask(df[feature] == 'Discharge Summary', new_class, inplace=True)\n",
        "df[feature].mask(df[feature] == 'Emergency Room Reports', new_class, inplace=True)\n",
        "df[feature].mask(df[feature] == 'IME-QME-Work Comp etc.', new_class, inplace=True)\n",
        "df[feature].mask(df[feature] == 'Letters', new_class, inplace=True)\n",
        "df[feature].mask(df[feature] == 'Office Notes', new_class, inplace=True)\n",
        "df[feature].mask(df[feature] == 'SOAP / Chart / Progress Notes', new_class, inplace=True)\n",
        "df[feature].mask(df[feature] == 'Radiology', new_class, inplace=True)\n",
        "\n",
        "print(\"Reduced\",feature,\"to\",len(df[feature].unique()),\"total classes\")"
      ],
      "execution_count": null,
      "outputs": [
        {
          "output_type": "stream",
          "text": [
            "Reduced medical_specialty to 19 total classes\n"
          ],
          "name": "stdout"
        }
      ]
    },
    {
      "cell_type": "code",
      "metadata": {
        "id": "a_rA8nhNIRFW",
        "colab": {
          "base_uri": "https://localhost:8080/"
        },
        "outputId": "49a93baf-d669-40da-c7a4-86e70bb90e3a"
      },
      "source": [
        "new_class = 'Other' \n",
        "\n",
        "df[feature].mask(df[feature] == 'Diets and Nutritions', new_class, inplace=True)\n",
        "df[feature].mask(df[feature] == 'Bariatrics', new_class, inplace=True)\n",
        "df[feature].mask(df[feature] == 'Dentistry', new_class, inplace=True)\n",
        "df[feature].mask(df[feature] == 'Ophthalmology', new_class, inplace=True)\n",
        "df[feature].mask(df[feature] == 'Pediatrics - Neonatal', new_class, inplace=True)\n",
        "df[feature].mask(df[feature] == 'Dermatology', new_class, inplace=True)\n",
        "df[feature].mask(df[feature] == 'Allergy / Immunology', new_class, inplace=True)\n",
        "df[feature].mask(df[feature] == 'Speech - Language', new_class, inplace=True)\n",
        "df[feature].mask(df[feature] == 'Psychiatry / Psychology', new_class, inplace=True)\n",
        "df[feature].mask(df[feature] == 'Autopsy', new_class, inplace=True)\n",
        "df[feature].mask(df[feature] == 'Lab Medicine - Pathology', new_class, inplace=True)\n",
        "df[feature].mask(df[feature] == 'Physical Medicine - Rehab', new_class, inplace=True)\n",
        "df[feature].mask(df[feature] == 'Orthopedic', new_class, inplace=True)\n",
        "df[feature].mask(df[feature] == 'Chiropractic', new_class, inplace=True)\n",
        "df[feature].mask(df[feature] == 'Podiatry', new_class, inplace=True)\n",
        "df[feature].mask(df[feature] == 'Neurology', new_class, inplace=True)\n",
        "\n",
        "print(\"Reduced\",feature,\"to\",len(df[feature].unique()),\"total classes\")"
      ],
      "execution_count": null,
      "outputs": [
        {
          "output_type": "stream",
          "text": [
            "Reduced medical_specialty to 4 total classes\n"
          ],
          "name": "stdout"
        }
      ]
    },
    {
      "cell_type": "code",
      "metadata": {
        "id": "VdYVjcUiIRFW",
        "colab": {
          "base_uri": "https://localhost:8080/"
        },
        "outputId": "8bb05488-e780-424b-8401-3ead511cc7f2"
      },
      "source": [
        "df['medical_specialty'].unique()"
      ],
      "execution_count": null,
      "outputs": [
        {
          "output_type": "execute_result",
          "data": {
            "text/plain": [
              "array(['Other', 'Internal Medicine', 'Surgery', 'Medical Records'],\n",
              "      dtype=object)"
            ]
          },
          "metadata": {
            "tags": []
          },
          "execution_count": 30
        }
      ]
    },
    {
      "cell_type": "code",
      "metadata": {
        "id": "P2yaU8fKIRFW",
        "colab": {
          "base_uri": "https://localhost:8080/",
          "height": 573
        },
        "outputId": "9121e37b-e01c-49fd-ff9f-3310582a1dfc"
      },
      "source": [
        "fig, ax = plt.subplots(figsize = (14,8))\n",
        "specialty = df['medical_specialty'].value_counts()\n",
        "specialty = specialty[::,]\n",
        "g = sb.barplot(specialty.index, specialty.values, alpha=0.8)\n",
        "\n",
        "total = str(len(df['medical_specialty'].unique()))\n",
        "plt.title(\"Top Specialties in Medical Transcriptions\")\n",
        "plt.ylabel(\"Frequency\", fontsize=12)\n",
        "\n",
        "x_label_str = \"Top Specialties out of \" + total +\" total\"\n",
        "plt.xlabel(x_label_str, fontsize=14)\n",
        "\n",
        "g.set_xticklabels(g.get_xticklabels(), rotation=0)\n",
        "\n",
        "plt.show()"
      ],
      "execution_count": null,
      "outputs": [
        {
          "output_type": "stream",
          "text": [
            "/usr/local/lib/python3.6/dist-packages/seaborn/_decorators.py:43: FutureWarning: Pass the following variables as keyword args: x, y. From version 0.12, the only valid positional argument will be `data`, and passing other arguments without an explicit keyword will result in an error or misinterpretation.\n",
            "  FutureWarning\n"
          ],
          "name": "stderr"
        },
        {
          "output_type": "display_data",
          "data": {
            "image/png": "[encoded data removed]",
            "text/plain": [
              "<Figure size 1008x576 with 1 Axes>"
            ]
          },
          "metadata": {
            "tags": []
          }
        }
      ]
    },
    {
      "cell_type": "code",
      "metadata": {
        "id": "_WRXvD0eIRFW",
        "colab": {
          "base_uri": "https://localhost:8080/",
          "height": 339
        },
        "outputId": "66d7c35f-60c5-4b0d-dc45-d47900e78c3d"
      },
      "source": [
        "sb.distplot(df['medical_specialty'].value_counts());"
      ],
      "execution_count": null,
      "outputs": [
        {
          "output_type": "stream",
          "text": [
            "/usr/local/lib/python3.6/dist-packages/seaborn/distributions.py:2551: FutureWarning: `distplot` is a deprecated function and will be removed in a future version. Please adapt your code to use either `displot` (a figure-level function with similar flexibility) or `histplot` (an axes-level function for histograms).\n",
            "  warnings.warn(msg, FutureWarning)\n"
          ],
          "name": "stderr"
        },
        {
          "output_type": "display_data",
          "data": {
            "image/png": "[encoded data removed]",
            "text/plain": [
              "<Figure size 432x288 with 1 Axes>"
            ]
          },
          "metadata": {
            "tags": []
          }
        }
      ]
    },
    {
      "cell_type": "code",
      "metadata": {
        "id": "EG6L1fCHIRFW",
        "colab": {
          "base_uri": "https://localhost:8080/"
        },
        "outputId": "ae39374b-b3ff-4edb-a0e8-aaf79d4a91ba"
      },
      "source": [
        "skewness = df['medical_specialty'].value_counts().skew()\n",
        "kurtosis = df['medical_specialty'].value_counts().kurt()\n",
        "\n",
        "normality_testing(skewness,kurtosis)"
      ],
      "execution_count": null,
      "outputs": [
        {
          "output_type": "stream",
          "text": [
            "positive kurtosis = 1.999\n",
            "skewness = 1.195 \n",
            "The distribution is highly skewed\n"
          ],
          "name": "stdout"
        }
      ]
    },
    {
      "cell_type": "markdown",
      "metadata": {
        "id": "ixeIbgw4IRFW"
      },
      "source": [
        "### Output classes"
      ]
    },
    {
      "cell_type": "code",
      "metadata": {
        "id": "VfElo4X6IRFW",
        "colab": {
          "base_uri": "https://localhost:8080/"
        },
        "outputId": "4a9d0508-2930-4bb2-c3e3-a6b832548efe"
      },
      "source": [
        "keys = [3,2,4,1]\n",
        "values = sorted(df['medical_specialty'].unique())\n",
        "zipObj = zip(keys,values)\n",
        "classes_dict = dict(zipObj)\n",
        "classes_dict"
      ],
      "execution_count": null,
      "outputs": [
        {
          "output_type": "execute_result",
          "data": {
            "text/plain": [
              "{1: 'Surgery', 2: 'Medical Records', 3: 'Internal Medicine', 4: 'Other'}"
            ]
          },
          "metadata": {
            "tags": []
          },
          "execution_count": 34
        }
      ]
    },
    {
      "cell_type": "code",
      "metadata": {
        "id": "Ee7UQJJvIRFW"
      },
      "source": [
        "classes_dict = sorted(classes_dict.items())\n",
        "classes_dict = dict(classes_dict)"
      ],
      "execution_count": null,
      "outputs": []
    },
    {
      "cell_type": "code",
      "metadata": {
        "id": "eYUrVb-EIRFW",
        "colab": {
          "base_uri": "https://localhost:8080/"
        },
        "outputId": "7e4cae81-1558-4262-9714-7cfdc46307fe"
      },
      "source": [
        "classes_dict"
      ],
      "execution_count": null,
      "outputs": [
        {
          "output_type": "execute_result",
          "data": {
            "text/plain": [
              "{1: 'Surgery', 2: 'Medical Records', 3: 'Internal Medicine', 4: 'Other'}"
            ]
          },
          "metadata": {
            "tags": []
          },
          "execution_count": 36
        }
      ]
    },
    {
      "cell_type": "code",
      "metadata": {
        "id": "NfAKe0giIRFX"
      },
      "source": [
        "classes_file = open(\"./data/classes.txt\",\"w\") \n",
        "for i in classes_dict:\n",
        "    classes_file.write(classes_dict[i]) \n",
        "    classes_file.write(\"\\n\")\n",
        "\n",
        "classes_file.close()"
      ],
      "execution_count": null,
      "outputs": []
    },
    {
      "cell_type": "markdown",
      "metadata": {
        "id": "kcJ_VacoIRFX"
      },
      "source": [
        "### Consolidating the standardized dataset"
      ]
    },
    {
      "cell_type": "code",
      "metadata": {
        "id": "zUahh0o3IRFX",
        "colab": {
          "base_uri": "https://localhost:8080/",
          "height": 204
        },
        "outputId": "c414f8ff-ccee-4b41-9907-6de6d2bafa1c"
      },
      "source": [
        "features = ['medical_specialty','sample_name','transcription','keywords']\n",
        "\n",
        "X = df[features]\n",
        "X.head()"
      ],
      "execution_count": null,
      "outputs": [
        {
          "output_type": "execute_result",
          "data": {
            "text/html": [
              "<div>\n",
              "<style scoped>\n",
              "    .dataframe tbody tr th:only-of-type {\n",
              "        vertical-align: middle;\n",
              "    }\n",
              "\n",
              "    .dataframe tbody tr th {\n",
              "        vertical-align: top;\n",
              "    }\n",
              "\n",
              "    .dataframe thead th {\n",
              "        text-align: right;\n",
              "    }\n",
              "</style>\n",
              "<table border=\"1\" class=\"dataframe\">\n",
              "  <thead>\n",
              "    <tr style=\"text-align: right;\">\n",
              "      <th></th>\n",
              "      <th>medical_specialty</th>\n",
              "      <th>sample_name</th>\n",
              "      <th>transcription</th>\n",
              "      <th>keywords</th>\n",
              "    </tr>\n",
              "  </thead>\n",
              "  <tbody>\n",
              "    <tr>\n",
              "      <th>0</th>\n",
              "      <td>Other</td>\n",
              "      <td>Allergic Rhinitis</td>\n",
              "      <td>SUBJECTIVE:,  This 23-year-old white female pr...</td>\n",
              "      <td>allergy / immunology, allergic rhinitis, aller...</td>\n",
              "    </tr>\n",
              "    <tr>\n",
              "      <th>1</th>\n",
              "      <td>Other</td>\n",
              "      <td>Laparoscopic Gastric Bypass Consult - 2</td>\n",
              "      <td>PAST MEDICAL HISTORY:, He has difficulty climb...</td>\n",
              "      <td>bariatrics, laparoscopic gastric bypass, weigh...</td>\n",
              "    </tr>\n",
              "    <tr>\n",
              "      <th>2</th>\n",
              "      <td>Other</td>\n",
              "      <td>Laparoscopic Gastric Bypass Consult - 1</td>\n",
              "      <td>HISTORY OF PRESENT ILLNESS: , I have seen ABC ...</td>\n",
              "      <td>bariatrics, laparoscopic gastric bypass, heart...</td>\n",
              "    </tr>\n",
              "    <tr>\n",
              "      <th>3</th>\n",
              "      <td>Internal Medicine</td>\n",
              "      <td>2-D Echocardiogram - 1</td>\n",
              "      <td>2-D M-MODE: , ,1.  Left atrial enlargement wit...</td>\n",
              "      <td>cardiovascular / pulmonary, 2-d m-mode, dopple...</td>\n",
              "    </tr>\n",
              "    <tr>\n",
              "      <th>4</th>\n",
              "      <td>Internal Medicine</td>\n",
              "      <td>2-D Echocardiogram - 2</td>\n",
              "      <td>1.  The left ventricular cavity size and wall ...</td>\n",
              "      <td>cardiovascular / pulmonary, 2-d, doppler, echo...</td>\n",
              "    </tr>\n",
              "  </tbody>\n",
              "</table>\n",
              "</div>"
            ],
            "text/plain": [
              "   medical_specialty  ...                                           keywords\n",
              "0              Other  ...  allergy / immunology, allergic rhinitis, aller...\n",
              "1              Other  ...  bariatrics, laparoscopic gastric bypass, weigh...\n",
              "2              Other  ...  bariatrics, laparoscopic gastric bypass, heart...\n",
              "3  Internal Medicine  ...  cardiovascular / pulmonary, 2-d m-mode, dopple...\n",
              "4  Internal Medicine  ...  cardiovascular / pulmonary, 2-d, doppler, echo...\n",
              "\n",
              "[5 rows x 4 columns]"
            ]
          },
          "metadata": {
            "tags": []
          },
          "execution_count": 38
        }
      ]
    },
    {
      "cell_type": "code",
      "metadata": {
        "id": "mXFZYDX_IRFX",
        "colab": {
          "base_uri": "https://localhost:8080/"
        },
        "outputId": "72e3c032-af43-4ba1-8890-a51513db632d"
      },
      "source": [
        "X.isnull().sum(axis = 0)"
      ],
      "execution_count": null,
      "outputs": [
        {
          "output_type": "execute_result",
          "data": {
            "text/plain": [
              "medical_specialty       0\n",
              "sample_name             0\n",
              "transcription           0\n",
              "keywords             1068\n",
              "dtype: int64"
            ]
          },
          "metadata": {
            "tags": []
          },
          "execution_count": 39
        }
      ]
    },
    {
      "cell_type": "code",
      "metadata": {
        "id": "Kd7UFwoSIRFX",
        "colab": {
          "base_uri": "https://localhost:8080/",
          "height": 306
        },
        "outputId": "456fc360-9d14-4d29-8757-0849311aff0d"
      },
      "source": [
        "# Merging columns\n",
        "X['text'] = X['transcription'] + X['keywords'].astype(str)\n",
        "X.head()"
      ],
      "execution_count": null,
      "outputs": [
        {
          "output_type": "stream",
          "text": [
            "/usr/local/lib/python3.6/dist-packages/ipykernel_launcher.py:2: SettingWithCopyWarning: \n",
            "A value is trying to be set on a copy of a slice from a DataFrame.\n",
            "Try using .loc[row_indexer,col_indexer] = value instead\n",
            "\n",
            "See the caveats in the documentation: https://pandas.pydata.org/pandas-docs/stable/user_guide/indexing.html#returning-a-view-versus-a-copy\n",
            "  \n"
          ],
          "name": "stderr"
        },
        {
          "output_type": "execute_result",
          "data": {
            "text/html": [
              "<div>\n",
              "<style scoped>\n",
              "    .dataframe tbody tr th:only-of-type {\n",
              "        vertical-align: middle;\n",
              "    }\n",
              "\n",
              "    .dataframe tbody tr th {\n",
              "        vertical-align: top;\n",
              "    }\n",
              "\n",
              "    .dataframe thead th {\n",
              "        text-align: right;\n",
              "    }\n",
              "</style>\n",
              "<table border=\"1\" class=\"dataframe\">\n",
              "  <thead>\n",
              "    <tr style=\"text-align: right;\">\n",
              "      <th></th>\n",
              "      <th>medical_specialty</th>\n",
              "      <th>sample_name</th>\n",
              "      <th>transcription</th>\n",
              "      <th>keywords</th>\n",
              "      <th>text</th>\n",
              "    </tr>\n",
              "  </thead>\n",
              "  <tbody>\n",
              "    <tr>\n",
              "      <th>0</th>\n",
              "      <td>Other</td>\n",
              "      <td>Allergic Rhinitis</td>\n",
              "      <td>SUBJECTIVE:,  This 23-year-old white female pr...</td>\n",
              "      <td>allergy / immunology, allergic rhinitis, aller...</td>\n",
              "      <td>SUBJECTIVE:,  This 23-year-old white female pr...</td>\n",
              "    </tr>\n",
              "    <tr>\n",
              "      <th>1</th>\n",
              "      <td>Other</td>\n",
              "      <td>Laparoscopic Gastric Bypass Consult - 2</td>\n",
              "      <td>PAST MEDICAL HISTORY:, He has difficulty climb...</td>\n",
              "      <td>bariatrics, laparoscopic gastric bypass, weigh...</td>\n",
              "      <td>PAST MEDICAL HISTORY:, He has difficulty climb...</td>\n",
              "    </tr>\n",
              "    <tr>\n",
              "      <th>2</th>\n",
              "      <td>Other</td>\n",
              "      <td>Laparoscopic Gastric Bypass Consult - 1</td>\n",
              "      <td>HISTORY OF PRESENT ILLNESS: , I have seen ABC ...</td>\n",
              "      <td>bariatrics, laparoscopic gastric bypass, heart...</td>\n",
              "      <td>HISTORY OF PRESENT ILLNESS: , I have seen ABC ...</td>\n",
              "    </tr>\n",
              "    <tr>\n",
              "      <th>3</th>\n",
              "      <td>Internal Medicine</td>\n",
              "      <td>2-D Echocardiogram - 1</td>\n",
              "      <td>2-D M-MODE: , ,1.  Left atrial enlargement wit...</td>\n",
              "      <td>cardiovascular / pulmonary, 2-d m-mode, dopple...</td>\n",
              "      <td>2-D M-MODE: , ,1.  Left atrial enlargement wit...</td>\n",
              "    </tr>\n",
              "    <tr>\n",
              "      <th>4</th>\n",
              "      <td>Internal Medicine</td>\n",
              "      <td>2-D Echocardiogram - 2</td>\n",
              "      <td>1.  The left ventricular cavity size and wall ...</td>\n",
              "      <td>cardiovascular / pulmonary, 2-d, doppler, echo...</td>\n",
              "      <td>1.  The left ventricular cavity size and wall ...</td>\n",
              "    </tr>\n",
              "  </tbody>\n",
              "</table>\n",
              "</div>"
            ],
            "text/plain": [
              "   medical_specialty  ...                                               text\n",
              "0              Other  ...  SUBJECTIVE:,  This 23-year-old white female pr...\n",
              "1              Other  ...  PAST MEDICAL HISTORY:, He has difficulty climb...\n",
              "2              Other  ...  HISTORY OF PRESENT ILLNESS: , I have seen ABC ...\n",
              "3  Internal Medicine  ...  2-D M-MODE: , ,1.  Left atrial enlargement wit...\n",
              "4  Internal Medicine  ...  1.  The left ventricular cavity size and wall ...\n",
              "\n",
              "[5 rows x 5 columns]"
            ]
          },
          "metadata": {
            "tags": []
          },
          "execution_count": 40
        }
      ]
    },
    {
      "cell_type": "code",
      "metadata": {
        "id": "yTk-2Na1IRFX",
        "colab": {
          "base_uri": "https://localhost:8080/",
          "height": 204
        },
        "outputId": "3e21ab8c-2442-40e4-c6bc-f56b12076a0d"
      },
      "source": [
        "X = X.drop(['transcription', 'keywords'], axis=1)\n",
        "X.head()"
      ],
      "execution_count": null,
      "outputs": [
        {
          "output_type": "execute_result",
          "data": {
            "text/html": [
              "<div>\n",
              "<style scoped>\n",
              "    .dataframe tbody tr th:only-of-type {\n",
              "        vertical-align: middle;\n",
              "    }\n",
              "\n",
              "    .dataframe tbody tr th {\n",
              "        vertical-align: top;\n",
              "    }\n",
              "\n",
              "    .dataframe thead th {\n",
              "        text-align: right;\n",
              "    }\n",
              "</style>\n",
              "<table border=\"1\" class=\"dataframe\">\n",
              "  <thead>\n",
              "    <tr style=\"text-align: right;\">\n",
              "      <th></th>\n",
              "      <th>medical_specialty</th>\n",
              "      <th>sample_name</th>\n",
              "      <th>text</th>\n",
              "    </tr>\n",
              "  </thead>\n",
              "  <tbody>\n",
              "    <tr>\n",
              "      <th>0</th>\n",
              "      <td>Other</td>\n",
              "      <td>Allergic Rhinitis</td>\n",
              "      <td>SUBJECTIVE:,  This 23-year-old white female pr...</td>\n",
              "    </tr>\n",
              "    <tr>\n",
              "      <th>1</th>\n",
              "      <td>Other</td>\n",
              "      <td>Laparoscopic Gastric Bypass Consult - 2</td>\n",
              "      <td>PAST MEDICAL HISTORY:, He has difficulty climb...</td>\n",
              "    </tr>\n",
              "    <tr>\n",
              "      <th>2</th>\n",
              "      <td>Other</td>\n",
              "      <td>Laparoscopic Gastric Bypass Consult - 1</td>\n",
              "      <td>HISTORY OF PRESENT ILLNESS: , I have seen ABC ...</td>\n",
              "    </tr>\n",
              "    <tr>\n",
              "      <th>3</th>\n",
              "      <td>Internal Medicine</td>\n",
              "      <td>2-D Echocardiogram - 1</td>\n",
              "      <td>2-D M-MODE: , ,1.  Left atrial enlargement wit...</td>\n",
              "    </tr>\n",
              "    <tr>\n",
              "      <th>4</th>\n",
              "      <td>Internal Medicine</td>\n",
              "      <td>2-D Echocardiogram - 2</td>\n",
              "      <td>1.  The left ventricular cavity size and wall ...</td>\n",
              "    </tr>\n",
              "  </tbody>\n",
              "</table>\n",
              "</div>"
            ],
            "text/plain": [
              "   medical_specialty  ...                                               text\n",
              "0              Other  ...  SUBJECTIVE:,  This 23-year-old white female pr...\n",
              "1              Other  ...  PAST MEDICAL HISTORY:, He has difficulty climb...\n",
              "2              Other  ...  HISTORY OF PRESENT ILLNESS: , I have seen ABC ...\n",
              "3  Internal Medicine  ...  2-D M-MODE: , ,1.  Left atrial enlargement wit...\n",
              "4  Internal Medicine  ...  1.  The left ventricular cavity size and wall ...\n",
              "\n",
              "[5 rows x 3 columns]"
            ]
          },
          "metadata": {
            "tags": []
          },
          "execution_count": 41
        }
      ]
    },
    {
      "cell_type": "code",
      "metadata": {
        "id": "NTv7dRDRIRFX",
        "colab": {
          "base_uri": "https://localhost:8080/"
        },
        "outputId": "db121a60-2360-410d-ed82-293dc0cfeefc"
      },
      "source": [
        "X.isnull().sum(axis = 0)"
      ],
      "execution_count": null,
      "outputs": [
        {
          "output_type": "execute_result",
          "data": {
            "text/plain": [
              "medical_specialty    0\n",
              "sample_name          0\n",
              "text                 0\n",
              "dtype: int64"
            ]
          },
          "metadata": {
            "tags": []
          },
          "execution_count": 42
        }
      ]
    },
    {
      "cell_type": "code",
      "metadata": {
        "id": "7EXMCJtDIRFX",
        "colab": {
          "base_uri": "https://localhost:8080/",
          "height": 204
        },
        "outputId": "993380bc-6330-4570-f188-f1e95186bb73"
      },
      "source": [
        "for key in classes_dict.keys():\n",
        "  X.loc[(X['medical_specialty'] == classes_dict[key]),'medical_specialty']=key\n",
        "\n",
        "X.head()"
      ],
      "execution_count": null,
      "outputs": [
        {
          "output_type": "execute_result",
          "data": {
            "text/html": [
              "<div>\n",
              "<style scoped>\n",
              "    .dataframe tbody tr th:only-of-type {\n",
              "        vertical-align: middle;\n",
              "    }\n",
              "\n",
              "    .dataframe tbody tr th {\n",
              "        vertical-align: top;\n",
              "    }\n",
              "\n",
              "    .dataframe thead th {\n",
              "        text-align: right;\n",
              "    }\n",
              "</style>\n",
              "<table border=\"1\" class=\"dataframe\">\n",
              "  <thead>\n",
              "    <tr style=\"text-align: right;\">\n",
              "      <th></th>\n",
              "      <th>medical_specialty</th>\n",
              "      <th>sample_name</th>\n",
              "      <th>text</th>\n",
              "    </tr>\n",
              "  </thead>\n",
              "  <tbody>\n",
              "    <tr>\n",
              "      <th>0</th>\n",
              "      <td>4</td>\n",
              "      <td>Allergic Rhinitis</td>\n",
              "      <td>SUBJECTIVE:,  This 23-year-old white female pr...</td>\n",
              "    </tr>\n",
              "    <tr>\n",
              "      <th>1</th>\n",
              "      <td>4</td>\n",
              "      <td>Laparoscopic Gastric Bypass Consult - 2</td>\n",
              "      <td>PAST MEDICAL HISTORY:, He has difficulty climb...</td>\n",
              "    </tr>\n",
              "    <tr>\n",
              "      <th>2</th>\n",
              "      <td>4</td>\n",
              "      <td>Laparoscopic Gastric Bypass Consult - 1</td>\n",
              "      <td>HISTORY OF PRESENT ILLNESS: , I have seen ABC ...</td>\n",
              "    </tr>\n",
              "    <tr>\n",
              "      <th>3</th>\n",
              "      <td>3</td>\n",
              "      <td>2-D Echocardiogram - 1</td>\n",
              "      <td>2-D M-MODE: , ,1.  Left atrial enlargement wit...</td>\n",
              "    </tr>\n",
              "    <tr>\n",
              "      <th>4</th>\n",
              "      <td>3</td>\n",
              "      <td>2-D Echocardiogram - 2</td>\n",
              "      <td>1.  The left ventricular cavity size and wall ...</td>\n",
              "    </tr>\n",
              "  </tbody>\n",
              "</table>\n",
              "</div>"
            ],
            "text/plain": [
              "  medical_specialty  ...                                               text\n",
              "0                 4  ...  SUBJECTIVE:,  This 23-year-old white female pr...\n",
              "1                 4  ...  PAST MEDICAL HISTORY:, He has difficulty climb...\n",
              "2                 4  ...  HISTORY OF PRESENT ILLNESS: , I have seen ABC ...\n",
              "3                 3  ...  2-D M-MODE: , ,1.  Left atrial enlargement wit...\n",
              "4                 3  ...  1.  The left ventricular cavity size and wall ...\n",
              "\n",
              "[5 rows x 3 columns]"
            ]
          },
          "metadata": {
            "tags": []
          },
          "execution_count": 44
        }
      ]
    },
    {
      "cell_type": "code",
      "metadata": {
        "id": "PfeeGzu4IRFX",
        "colab": {
          "base_uri": "https://localhost:8080/",
          "height": 204
        },
        "outputId": "0547206a-53a9-41c0-cf48-7281bb4bacc4"
      },
      "source": [
        "X = X.rename(columns={\"medical_specialty\": \"label\", \"sample_name\": \"description\"})\n",
        "X.head()"
      ],
      "execution_count": null,
      "outputs": [
        {
          "output_type": "execute_result",
          "data": {
            "text/html": [
              "<div>\n",
              "<style scoped>\n",
              "    .dataframe tbody tr th:only-of-type {\n",
              "        vertical-align: middle;\n",
              "    }\n",
              "\n",
              "    .dataframe tbody tr th {\n",
              "        vertical-align: top;\n",
              "    }\n",
              "\n",
              "    .dataframe thead th {\n",
              "        text-align: right;\n",
              "    }\n",
              "</style>\n",
              "<table border=\"1\" class=\"dataframe\">\n",
              "  <thead>\n",
              "    <tr style=\"text-align: right;\">\n",
              "      <th></th>\n",
              "      <th>label</th>\n",
              "      <th>description</th>\n",
              "      <th>text</th>\n",
              "    </tr>\n",
              "  </thead>\n",
              "  <tbody>\n",
              "    <tr>\n",
              "      <th>0</th>\n",
              "      <td>4</td>\n",
              "      <td>Allergic Rhinitis</td>\n",
              "      <td>SUBJECTIVE:,  This 23-year-old white female pr...</td>\n",
              "    </tr>\n",
              "    <tr>\n",
              "      <th>1</th>\n",
              "      <td>4</td>\n",
              "      <td>Laparoscopic Gastric Bypass Consult - 2</td>\n",
              "      <td>PAST MEDICAL HISTORY:, He has difficulty climb...</td>\n",
              "    </tr>\n",
              "    <tr>\n",
              "      <th>2</th>\n",
              "      <td>4</td>\n",
              "      <td>Laparoscopic Gastric Bypass Consult - 1</td>\n",
              "      <td>HISTORY OF PRESENT ILLNESS: , I have seen ABC ...</td>\n",
              "    </tr>\n",
              "    <tr>\n",
              "      <th>3</th>\n",
              "      <td>3</td>\n",
              "      <td>2-D Echocardiogram - 1</td>\n",
              "      <td>2-D M-MODE: , ,1.  Left atrial enlargement wit...</td>\n",
              "    </tr>\n",
              "    <tr>\n",
              "      <th>4</th>\n",
              "      <td>3</td>\n",
              "      <td>2-D Echocardiogram - 2</td>\n",
              "      <td>1.  The left ventricular cavity size and wall ...</td>\n",
              "    </tr>\n",
              "  </tbody>\n",
              "</table>\n",
              "</div>"
            ],
            "text/plain": [
              "  label  ...                                               text\n",
              "0     4  ...  SUBJECTIVE:,  This 23-year-old white female pr...\n",
              "1     4  ...  PAST MEDICAL HISTORY:, He has difficulty climb...\n",
              "2     4  ...  HISTORY OF PRESENT ILLNESS: , I have seen ABC ...\n",
              "3     3  ...  2-D M-MODE: , ,1.  Left atrial enlargement wit...\n",
              "4     3  ...  1.  The left ventricular cavity size and wall ...\n",
              "\n",
              "[5 rows x 3 columns]"
            ]
          },
          "metadata": {
            "tags": []
          },
          "execution_count": 45
        }
      ]
    },
    {
      "cell_type": "code",
      "metadata": {
        "id": "A3rWbteSIRFX"
      },
      "source": [
        "X.to_csv('./data/X.csv', index = False)"
      ],
      "execution_count": null,
      "outputs": []
    },
    {
      "cell_type": "markdown",
      "metadata": {
        "id": "Op0oOpYUItw6"
      },
      "source": [
        "## Encrypted Training Demo on Medical Text Data using SyferText"
      ]
    },
    {
      "cell_type": "code",
      "metadata": {
        "id": "7WM1RAQaIRFX"
      },
      "source": [
        "from sklearn.model_selection import train_test_split\n",
        "\n",
        "X_train, X_test = train_test_split(X, test_size=0.1)\n",
        "\n",
        "X_train.to_csv('./data/train.csv', index = False)\n",
        "X_test.to_csv('./data/test.csv', index = False)"
      ],
      "execution_count": null,
      "outputs": []
    },
    {
      "cell_type": "markdown",
      "metadata": {
        "id": "heO4BkPRItw7"
      },
      "source": [
        "### Importing libraries (PySyft and SyfterText)"
      ]
    },
    {
      "cell_type": "code",
      "metadata": {
        "id": "4Kyn3DzVyCVk",
        "colab": {
          "base_uri": "https://localhost:8080/"
        },
        "outputId": "19b72075-ccaa-4df9-99d8-dc9a38f21dbb"
      },
      "source": [
        "!curl -s https://packagecloud.io/install/repositories/github/git-lfs/script.deb.sh | sudo bash"
      ],
      "execution_count": null,
      "outputs": [
        {
          "output_type": "stream",
          "text": [
            "Detected operating system as Ubuntu/bionic.\n",
            "Checking for curl...\n",
            "Detected curl...\n",
            "Checking for gpg...\n",
            "Detected gpg...\n",
            "Running apt-get update... done.\n",
            "Installing apt-transport-https... done.\n",
            "Installing /etc/apt/sources.list.d/github_git-lfs.list...done.\n",
            "Importing packagecloud gpg key... done.\n",
            "Running apt-get update... done.\n",
            "\n",
            "The repository is setup! You can now install packages.\n"
          ],
          "name": "stdout"
        }
      ]
    },
    {
      "cell_type": "code",
      "metadata": {
        "id": "kyDtXYH0yGQo",
        "colab": {
          "base_uri": "https://localhost:8080/"
        },
        "outputId": "b7aba9ad-4115-473b-ad38-5fc193dc8559"
      },
      "source": [
        "!sudo apt-get install git-lfs"
      ],
      "execution_count": null,
      "outputs": [
        {
          "output_type": "stream",
          "text": [
            "Reading package lists... Done\n",
            "Building dependency tree       \n",
            "Reading state information... Done\n",
            "The following NEW packages will be installed:\n",
            "  git-lfs\n",
            "0 upgraded, 1 newly installed, 0 to remove and 20 not upgraded.\n",
            "Need to get 6,886 kB of archives.\n",
            "After this operation, 16.4 MB of additional disk space will be used.\n",
            "Get:1 https://packagecloud.io/github/git-lfs/ubuntu bionic/main amd64 git-lfs amd64 2.12.1 [6,886 kB]\n",
            "Fetched 6,886 kB in 1s (8,543 kB/s)\n",
            "debconf: unable to initialize frontend: Dialog\n",
            "debconf: (No usable dialog-like program is installed, so the dialog based frontend cannot be used. at /usr/share/perl5/Debconf/FrontEnd/Dialog.pm line 76, <> line 1.)\n",
            "debconf: falling back to frontend: Readline\n",
            "debconf: unable to initialize frontend: Readline\n",
            "debconf: (This frontend requires a controlling tty.)\n",
            "debconf: falling back to frontend: Teletype\n",
            "dpkg-preconfigure: unable to re-open stdin: \n",
            "Selecting previously unselected package git-lfs.\n",
            "(Reading database ... 144869 files and directories currently installed.)\n",
            "Preparing to unpack .../git-lfs_2.12.1_amd64.deb ...\n",
            "Unpacking git-lfs (2.12.1) ...\n",
            "Setting up git-lfs (2.12.1) ...\n",
            "Git LFS initialized.\n",
            "Processing triggers for man-db (2.8.3-2ubuntu0.1) ...\n"
          ],
          "name": "stdout"
        }
      ]
    },
    {
      "cell_type": "code",
      "metadata": {
        "id": "qzrU47ddyHWp",
        "colab": {
          "base_uri": "https://localhost:8080/"
        },
        "outputId": "ba48786b-0204-41d6-ee68-c67a46c9935c"
      },
      "source": [
        "!git lfs install"
      ],
      "execution_count": null,
      "outputs": [
        {
          "output_type": "stream",
          "text": [
            "Git LFS initialized.\n"
          ],
          "name": "stdout"
        }
      ]
    },
    {
      "cell_type": "code",
      "metadata": {
        "id": "MCSU0lI5dpWc",
        "colab": {
          "base_uri": "https://localhost:8080/",
          "height": 493
        },
        "outputId": "23a0e603-d963-4c40-d102-db861ba76f81"
      },
      "source": [
        "!pip install  git+git://github.com/Nilanshrajput/syfertext_en_core_web_lg@master"
      ],
      "execution_count": null,
      "outputs": [
        {
          "output_type": "stream",
          "text": [
            "Collecting git+git://github.com/Nilanshrajput/syfertext_en_core_web_lg@master\n",
            "  Cloning git://github.com/Nilanshrajput/syfertext_en_core_web_lg (to revision master) to /tmp/pip-req-build-x29ab39v\n",
            "  Running command git clone -q git://github.com/Nilanshrajput/syfertext_en_core_web_lg /tmp/pip-req-build-x29ab39v\n",
            "  Filtering content: 100% (3/3), 820.61 MiB | 45.34 MiB/s, done.\n",
            "Collecting numpy==1.18.2\n",
            "\u001b[?25l  Downloading https://files.pythonhosted.org/packages/07/08/a549ba8b061005bb629b76adc000f3caaaf881028b963c2e18f811c6edc1/numpy-1.18.2-cp36-cp36m-manylinux1_x86_64.whl (20.2MB)\n",
            "\u001b[K     |████████████████████████████████| 20.2MB 61.6MB/s \n",
            "\u001b[?25hBuilding wheels for collected packages: syfertext-en-core-web-lg\n",
            "  Building wheel for syfertext-en-core-web-lg (setup.py) ... \u001b[?25l\u001b[?25hdone\n",
            "  Created wheel for syfertext-en-core-web-lg: filename=syfertext_en_core_web_lg-0.0.1-cp36-none-any.whl size=774464160 sha256=27b3f2503b9692db75284c152472cc55cf0b2812502fce10b26e855f20304f31\n",
            "  Stored in directory: /tmp/pip-ephem-wheel-cache-cqu7hcxr/wheels/59/55/ab/309821e4cc31d9f53129229bd3ad759276e30fb8daef7ddeef\n",
            "Successfully built syfertext-en-core-web-lg\n",
            "\u001b[31mERROR: google-colab 1.0.0 has requirement notebook~=5.3.0; python_version >= \"3.0\", but you'll have notebook 5.7.8 which is incompatible.\u001b[0m\n",
            "\u001b[31mERROR: google-colab 1.0.0 has requirement requests~=2.23.0, but you'll have requests 2.22.0 which is incompatible.\u001b[0m\n",
            "\u001b[31mERROR: google-colab 1.0.0 has requirement tornado~=5.1.0; python_version >= \"3.0\", but you'll have tornado 4.5.3 which is incompatible.\u001b[0m\n",
            "\u001b[31mERROR: datascience 0.10.6 has requirement folium==0.2.1, but you'll have folium 0.8.3 which is incompatible.\u001b[0m\n",
            "\u001b[31mERROR: bokeh 2.1.1 has requirement tornado>=5.1, but you'll have tornado 4.5.3 which is incompatible.\u001b[0m\n",
            "\u001b[31mERROR: albumentations 0.1.12 has requirement imgaug<0.2.7,>=0.2.5, but you'll have imgaug 0.2.9 which is incompatible.\u001b[0m\n",
            "Installing collected packages: numpy, syfertext-en-core-web-lg\n",
            "  Found existing installation: numpy 1.18.5\n",
            "    Uninstalling numpy-1.18.5:\n",
            "      Successfully uninstalled numpy-1.18.5\n",
            "Successfully installed numpy-1.18.2 syfertext-en-core-web-lg-0.0.1\n"
          ],
          "name": "stdout"
        },
        {
          "output_type": "display_data",
          "data": {
            "application/vnd.colab-display-data+json": {
              "pip_warning": {
                "packages": [
                  "numpy"
                ]
              }
            }
          },
          "metadata": {
            "tags": []
          }
        }
      ]
    },
    {
      "cell_type": "code",
      "metadata": {
        "id": "qywCk8PpbkMU",
        "colab": {
          "base_uri": "https://localhost:8080/"
        },
        "outputId": "937cd08a-4d6b-46cb-e048-b827897a3914"
      },
      "source": [
        "!git clone https://github.com/OpenMined/SyferText.git"
      ],
      "execution_count": null,
      "outputs": [
        {
          "output_type": "stream",
          "text": [
            "Cloning into 'SyferText'...\n",
            "remote: Enumerating objects: 59, done.\u001b[K\n",
            "remote: Counting objects: 100% (59/59), done.\u001b[K\n",
            "remote: Compressing objects: 100% (49/49), done.\u001b[K\n",
            "remote: Total 2405 (delta 23), reused 25 (delta 9), pack-reused 2346\u001b[K\n",
            "Receiving objects: 100% (2405/2405), 1.11 MiB | 9.79 MiB/s, done.\n",
            "Resolving deltas: 100% (1592/1592), done.\n"
          ],
          "name": "stdout"
        }
      ]
    },
    {
      "cell_type": "code",
      "metadata": {
        "id": "7cRSG9cCcFI5",
        "colab": {
          "base_uri": "https://localhost:8080/"
        },
        "outputId": "4de4e658-c5a3-44bf-b3ef-90524a0a1da1"
      },
      "source": [
        "!python 'SyferText/setup.py' install"
      ],
      "execution_count": null,
      "outputs": [
        {
          "output_type": "stream",
          "text": [
            "/usr/lib/python3.6/distutils/dist.py:261: UserWarning: Unknown distribution option: 'classifier'\n",
            "  warnings.warn(msg)\n",
            "running install\n",
            "running bdist_egg\n",
            "running egg_info\n",
            "creating syfertext.egg-info\n",
            "writing syfertext.egg-info/PKG-INFO\n",
            "writing dependency_links to syfertext.egg-info/dependency_links.txt\n",
            "writing requirements to syfertext.egg-info/requires.txt\n",
            "writing top-level names to syfertext.egg-info/top_level.txt\n",
            "writing manifest file 'syfertext.egg-info/SOURCES.txt'\n",
            "reading manifest file 'syfertext.egg-info/SOURCES.txt'\n",
            "writing manifest file 'syfertext.egg-info/SOURCES.txt'\n",
            "installing library code to build/bdist.linux-x86_64/egg\n",
            "running install_lib\n",
            "warning: install_lib: 'build/lib' does not exist -- no Python modules to install\n",
            "\n",
            "creating build\n",
            "creating build/bdist.linux-x86_64\n",
            "creating build/bdist.linux-x86_64/egg\n",
            "creating build/bdist.linux-x86_64/egg/EGG-INFO\n",
            "copying syfertext.egg-info/PKG-INFO -> build/bdist.linux-x86_64/egg/EGG-INFO\n",
            "copying syfertext.egg-info/SOURCES.txt -> build/bdist.linux-x86_64/egg/EGG-INFO\n",
            "copying syfertext.egg-info/dependency_links.txt -> build/bdist.linux-x86_64/egg/EGG-INFO\n",
            "copying syfertext.egg-info/requires.txt -> build/bdist.linux-x86_64/egg/EGG-INFO\n",
            "copying syfertext.egg-info/top_level.txt -> build/bdist.linux-x86_64/egg/EGG-INFO\n",
            "zip_safe flag not set; analyzing archive contents...\n",
            "creating dist\n",
            "creating 'dist/syfertext-0.0.1-py3.6.egg' and adding 'build/bdist.linux-x86_64/egg' to it\n",
            "removing 'build/bdist.linux-x86_64/egg' (and everything under it)\n",
            "Processing syfertext-0.0.1-py3.6.egg\n",
            "Removing /usr/local/lib/python3.6/dist-packages/syfertext-0.0.1-py3.6.egg\n",
            "Copying syfertext-0.0.1-py3.6.egg to /usr/local/lib/python3.6/dist-packages\n",
            "syfertext 0.0.1 is already the active version in easy-install.pth\n",
            "\n",
            "Installed /usr/local/lib/python3.6/dist-packages/syfertext-0.0.1-py3.6.egg\n",
            "Processing dependencies for syfertext==0.0.1\n",
            "Searching for requests==2.22.0\n",
            "Best match: requests 2.22.0\n",
            "Adding requests 2.22.0 to easy-install.pth file\n",
            "\n",
            "Using /usr/local/lib/python3.6/dist-packages\n",
            "Searching for syft==0.2.8\n",
            "Best match: syft 0.2.8\n",
            "Processing syft-0.2.8-py3.6.egg\n",
            "syft 0.2.8 is already the active version in easy-install.pth\n",
            "\n",
            "Using /usr/local/lib/python3.6/dist-packages/syft-0.2.8-py3.6.egg\n",
            "Searching for mmh3==2.5.1\n",
            "Best match: mmh3 2.5.1\n",
            "Processing mmh3-2.5.1-py3.6-linux-x86_64.egg\n",
            "mmh3 2.5.1 is already the active version in easy-install.pth\n",
            "\n",
            "Using /usr/local/lib/python3.6/dist-packages/mmh3-2.5.1-py3.6-linux-x86_64.egg\n",
            "Searching for tqdm==4.36.1\n",
            "Best match: tqdm 4.36.1\n",
            "Processing tqdm-4.36.1-py3.6.egg\n",
            "tqdm 4.36.1 is already the active version in easy-install.pth\n",
            "Installing tqdm script to /usr/local/bin\n",
            "\n",
            "Using /usr/local/lib/python3.6/dist-packages/tqdm-4.36.1-py3.6.egg\n",
            "Searching for certifi==2020.11.8\n",
            "Best match: certifi 2020.11.8\n",
            "Adding certifi 2020.11.8 to easy-install.pth file\n",
            "\n",
            "Using /usr/local/lib/python3.6/dist-packages\n",
            "Searching for urllib3==1.24.3\n",
            "Best match: urllib3 1.24.3\n",
            "Adding urllib3 1.24.3 to easy-install.pth file\n",
            "\n",
            "Using /usr/local/lib/python3.6/dist-packages\n",
            "Searching for idna==2.8\n",
            "Best match: idna 2.8\n",
            "Adding idna 2.8 to easy-install.pth file\n",
            "\n",
            "Using /usr/local/lib/python3.6/dist-packages\n",
            "Searching for chardet==3.0.4\n",
            "Best match: chardet 3.0.4\n",
            "Adding chardet 3.0.4 to easy-install.pth file\n",
            "Installing chardetect script to /usr/local/bin\n",
            "\n",
            "Using /usr/local/lib/python3.6/dist-packages\n",
            "Searching for websockets==8.1\n",
            "Best match: websockets 8.1\n",
            "Adding websockets 8.1 to easy-install.pth file\n",
            "\n",
            "Using /usr/local/lib/python3.6/dist-packages\n",
            "Searching for websocket-client==0.57.0\n",
            "Best match: websocket-client 0.57.0\n",
            "Adding websocket-client 0.57.0 to easy-install.pth file\n",
            "\n",
            "Using /usr/local/lib/python3.6/dist-packages\n",
            "Searching for tornado==4.5.3\n",
            "Best match: tornado 4.5.3\n",
            "Adding tornado 4.5.3 to easy-install.pth file\n",
            "\n",
            "Using /usr/local/lib/python3.6/dist-packages\n",
            "Searching for torch==1.4.0\n",
            "Best match: torch 1.4.0\n",
            "Adding torch 1.4.0 to easy-install.pth file\n",
            "Installing convert-caffe2-to-onnx script to /usr/local/bin\n",
            "Installing convert-onnx-to-caffe2 script to /usr/local/bin\n",
            "\n",
            "Using /usr/local/lib/python3.6/dist-packages\n",
            "Searching for torchvision==0.5.0\n",
            "Best match: torchvision 0.5.0\n",
            "Adding torchvision 0.5.0 to easy-install.pth file\n",
            "\n",
            "Using /usr/local/lib/python3.6/dist-packages\n",
            "Searching for tblib==1.6.0\n",
            "Best match: tblib 1.6.0\n",
            "Adding tblib 1.6.0 to easy-install.pth file\n",
            "\n",
            "Using /usr/local/lib/python3.6/dist-packages\n",
            "Searching for syft-proto==0.5.3\n",
            "Best match: syft-proto 0.5.3\n",
            "Processing syft_proto-0.5.3-py3.6.egg\n",
            "syft-proto 0.5.3 is already the active version in easy-install.pth\n",
            "\n",
            "Using /usr/local/lib/python3.6/dist-packages/syft_proto-0.5.3-py3.6.egg\n",
            "Searching for scipy==1.4.1\n",
            "Best match: scipy 1.4.1\n",
            "Adding scipy 1.4.1 to easy-install.pth file\n",
            "\n",
            "Using /usr/local/lib/python3.6/dist-packages\n",
            "Searching for requests-toolbelt==0.9.1\n",
            "Best match: requests-toolbelt 0.9.1\n",
            "Adding requests-toolbelt 0.9.1 to easy-install.pth file\n",
            "\n",
            "Using /usr/local/lib/python3.6/dist-packages\n",
            "Searching for psutil==5.7.0\n",
            "Best match: psutil 5.7.0\n",
            "Adding psutil 5.7.0 to easy-install.pth file\n",
            "\n",
            "Using /usr/local/lib/python3.6/dist-packages\n",
            "Searching for phe==1.4.0\n",
            "Best match: phe 1.4.0\n",
            "Adding phe 1.4.0 to easy-install.pth file\n",
            "Installing pheutil script to /usr/local/bin\n",
            "\n",
            "Using /usr/local/lib/python3.6/dist-packages\n",
            "Searching for openmined.threepio==0.2.0\n",
            "Best match: openmined.threepio 0.2.0\n",
            "Adding openmined.threepio 0.2.0 to easy-install.pth file\n",
            "\n",
            "Using /usr/local/lib/python3.6/dist-packages\n",
            "Searching for numpy==1.18.2\n",
            "Best match: numpy 1.18.2\n",
            "Adding numpy 1.18.2 to easy-install.pth file\n",
            "Installing f2py script to /usr/local/bin\n",
            "Installing f2py3 script to /usr/local/bin\n",
            "Installing f2py3.6 script to /usr/local/bin\n",
            "\n",
            "Using /usr/local/lib/python3.6/dist-packages\n",
            "Searching for notebook==5.7.8\n",
            "Best match: notebook 5.7.8\n",
            "Adding notebook 5.7.8 to easy-install.pth file\n",
            "Installing jupyter-bundlerextension script to /usr/local/bin\n",
            "Installing jupyter-nbextension script to /usr/local/bin\n",
            "Installing jupyter-notebook script to /usr/local/bin\n",
            "Installing jupyter-serverextension script to /usr/local/bin\n",
            "\n",
            "Using /usr/local/lib/python3.6/dist-packages\n",
            "Searching for msgpack==1.0.0\n",
            "Best match: msgpack 1.0.0\n",
            "Adding msgpack 1.0.0 to easy-install.pth file\n",
            "\n",
            "Using /usr/local/lib/python3.6/dist-packages\n",
            "Searching for lz4==3.0.2\n",
            "Best match: lz4 3.0.2\n",
            "Adding lz4 3.0.2 to easy-install.pth file\n",
            "\n",
            "Using /usr/local/lib/python3.6/dist-packages\n",
            "Searching for importlib-resources==1.5.0\n",
            "Best match: importlib-resources 1.5.0\n",
            "Adding importlib-resources 1.5.0 to easy-install.pth file\n",
            "\n",
            "Using /usr/local/lib/python3.6/dist-packages\n",
            "Searching for Flask-SocketIO==4.2.1\n",
            "Best match: Flask-SocketIO 4.2.1\n",
            "Adding Flask-SocketIO 4.2.1 to easy-install.pth file\n",
            "\n",
            "Using /usr/local/lib/python3.6/dist-packages\n",
            "Searching for dill==0.3.3\n",
            "Best match: dill 0.3.3\n",
            "Adding dill 0.3.3 to easy-install.pth file\n",
            "\n",
            "Using /usr/local/lib/python3.6/dist-packages\n",
            "Searching for aiortc==0.9.28\n",
            "Best match: aiortc 0.9.28\n",
            "Adding aiortc 0.9.28 to easy-install.pth file\n",
            "\n",
            "Using /usr/local/lib/python3.6/dist-packages\n",
            "Searching for RestrictedPython==5.1\n",
            "Best match: RestrictedPython 5.1\n",
            "Adding RestrictedPython 5.1 to easy-install.pth file\n",
            "\n",
            "Using /usr/local/lib/python3.6/dist-packages\n",
            "Searching for Pillow==6.2.2\n",
            "Best match: Pillow 6.2.2\n",
            "Adding Pillow 6.2.2 to easy-install.pth file\n",
            "\n",
            "Using /usr/local/lib/python3.6/dist-packages\n",
            "Searching for Flask==1.1.2\n",
            "Best match: Flask 1.1.2\n",
            "Adding Flask 1.1.2 to easy-install.pth file\n",
            "Installing flask script to /usr/local/bin\n",
            "\n",
            "Using /usr/local/lib/python3.6/dist-packages\n",
            "Searching for six==1.15.0\n",
            "Best match: six 1.15.0\n",
            "Adding six 1.15.0 to easy-install.pth file\n",
            "\n",
            "Using /usr/local/lib/python3.6/dist-packages\n",
            "Searching for protobuf==3.12.4\n",
            "Best match: protobuf 3.12.4\n",
            "Adding protobuf 3.12.4 to easy-install.pth file\n",
            "\n",
            "Using /usr/local/lib/python3.6/dist-packages\n",
            "Searching for traitlets==4.3.3\n",
            "Best match: traitlets 4.3.3\n",
            "Adding traitlets 4.3.3 to easy-install.pth file\n",
            "\n",
            "Using /usr/local/lib/python3.6/dist-packages\n",
            "Searching for pyzmq==20.0.0\n",
            "Best match: pyzmq 20.0.0\n",
            "Adding pyzmq 20.0.0 to easy-install.pth file\n",
            "\n",
            "Using /usr/local/lib/python3.6/dist-packages\n",
            "Searching for jupyter-core==4.7.0\n",
            "Best match: jupyter-core 4.7.0\n",
            "Adding jupyter-core 4.7.0 to easy-install.pth file\n",
            "Installing jupyter script to /usr/local/bin\n",
            "Installing jupyter-migrate script to /usr/local/bin\n",
            "Installing jupyter-troubleshoot script to /usr/local/bin\n",
            "\n",
            "Using /usr/local/lib/python3.6/dist-packages\n",
            "Searching for jupyter-client==5.3.5\n",
            "Best match: jupyter-client 5.3.5\n",
            "Adding jupyter-client 5.3.5 to easy-install.pth file\n",
            "Installing jupyter-kernel script to /usr/local/bin\n",
            "Installing jupyter-kernelspec script to /usr/local/bin\n",
            "Installing jupyter-run script to /usr/local/bin\n",
            "\n",
            "Using /usr/local/lib/python3.6/dist-packages\n",
            "Searching for Send2Trash==1.5.0\n",
            "Best match: Send2Trash 1.5.0\n",
            "Adding Send2Trash 1.5.0 to easy-install.pth file\n",
            "\n",
            "Using /usr/local/lib/python3.6/dist-packages\n",
            "Searching for nbconvert==5.6.1\n",
            "Best match: nbconvert 5.6.1\n",
            "Adding nbconvert 5.6.1 to easy-install.pth file\n",
            "Installing jupyter-nbconvert script to /usr/local/bin\n",
            "\n",
            "Using /usr/local/lib/python3.6/dist-packages\n",
            "Searching for terminado==0.9.1\n",
            "Best match: terminado 0.9.1\n",
            "Adding terminado 0.9.1 to easy-install.pth file\n",
            "\n",
            "Using /usr/local/lib/python3.6/dist-packages\n",
            "Searching for Jinja2==2.11.2\n",
            "Best match: Jinja2 2.11.2\n",
            "Adding Jinja2 2.11.2 to easy-install.pth file\n",
            "\n",
            "Using /usr/local/lib/python3.6/dist-packages\n",
            "Searching for ipykernel==4.10.1\n",
            "Best match: ipykernel 4.10.1\n",
            "Adding ipykernel 4.10.1 to easy-install.pth file\n",
            "\n",
            "Using /usr/local/lib/python3.6/dist-packages\n",
            "Searching for nbformat==5.0.8\n",
            "Best match: nbformat 5.0.8\n",
            "Adding nbformat 5.0.8 to easy-install.pth file\n",
            "Installing jupyter-trust script to /usr/local/bin\n",
            "\n",
            "Using /usr/local/lib/python3.6/dist-packages\n",
            "Searching for ipython-genutils==0.2.0\n",
            "Best match: ipython-genutils 0.2.0\n",
            "Adding ipython-genutils 0.2.0 to easy-install.pth file\n",
            "\n",
            "Using /usr/local/lib/python3.6/dist-packages\n",
            "Searching for prometheus-client==0.9.0\n",
            "Best match: prometheus-client 0.9.0\n",
            "Adding prometheus-client 0.9.0 to easy-install.pth file\n",
            "\n",
            "Using /usr/local/lib/python3.6/dist-packages\n",
            "Searching for zipp==3.4.0\n",
            "Best match: zipp 3.4.0\n",
            "Adding zipp 3.4.0 to easy-install.pth file\n",
            "\n",
            "Using /usr/local/lib/python3.6/dist-packages\n",
            "Searching for importlib-metadata==2.0.0\n",
            "Best match: importlib-metadata 2.0.0\n",
            "Adding importlib-metadata 2.0.0 to easy-install.pth file\n",
            "\n",
            "Using /usr/local/lib/python3.6/dist-packages\n",
            "Searching for python-socketio==5.0.1\n",
            "Best match: python-socketio 5.0.1\n",
            "Adding python-socketio 5.0.1 to easy-install.pth file\n",
            "\n",
            "Using /usr/local/lib/python3.6/dist-packages\n",
            "Searching for dataclasses==0.8\n",
            "Best match: dataclasses 0.8\n",
            "Adding dataclasses 0.8 to easy-install.pth file\n",
            "\n",
            "Using /usr/local/lib/python3.6/dist-packages\n",
            "Searching for pyee==8.1.0\n",
            "Best match: pyee 8.1.0\n",
            "Adding pyee 8.1.0 to easy-install.pth file\n",
            "\n",
            "Using /usr/local/lib/python3.6/dist-packages\n",
            "Searching for av==8.0.2\n",
            "Best match: av 8.0.2\n",
            "Adding av 8.0.2 to easy-install.pth file\n",
            "Installing pyav script to /usr/local/bin\n",
            "\n",
            "Using /usr/local/lib/python3.6/dist-packages\n",
            "Searching for aioice==0.6.18\n",
            "Best match: aioice 0.6.18\n",
            "Adding aioice 0.6.18 to easy-install.pth file\n",
            "\n",
            "Using /usr/local/lib/python3.6/dist-packages\n",
            "Searching for cryptography==3.2.1\n",
            "Best match: cryptography 3.2.1\n",
            "Adding cryptography 3.2.1 to easy-install.pth file\n",
            "\n",
            "Using /usr/local/lib/python3.6/dist-packages\n",
            "Searching for pylibsrtp==0.6.7\n",
            "Best match: pylibsrtp 0.6.7\n",
            "Adding pylibsrtp 0.6.7 to easy-install.pth file\n",
            "\n",
            "Using /usr/local/lib/python3.6/dist-packages\n",
            "Searching for crc32c==2.2\n",
            "Best match: crc32c 2.2\n",
            "Adding crc32c 2.2 to easy-install.pth file\n",
            "\n",
            "Using /usr/local/lib/python3.6/dist-packages\n",
            "Searching for cffi==1.14.3\n",
            "Best match: cffi 1.14.3\n",
            "Adding cffi 1.14.3 to easy-install.pth file\n",
            "\n",
            "Using /usr/local/lib/python3.6/dist-packages\n",
            "Searching for click==7.1.2\n",
            "Best match: click 7.1.2\n",
            "Adding click 7.1.2 to easy-install.pth file\n",
            "\n",
            "Using /usr/local/lib/python3.6/dist-packages\n",
            "Searching for itsdangerous==1.1.0\n",
            "Best match: itsdangerous 1.1.0\n",
            "Adding itsdangerous 1.1.0 to easy-install.pth file\n",
            "\n",
            "Using /usr/local/lib/python3.6/dist-packages\n",
            "Searching for Werkzeug==1.0.1\n",
            "Best match: Werkzeug 1.0.1\n",
            "Adding Werkzeug 1.0.1 to easy-install.pth file\n",
            "\n",
            "Using /usr/local/lib/python3.6/dist-packages\n",
            "Searching for setuptools==50.3.2\n",
            "Best match: setuptools 50.3.2\n",
            "Adding setuptools 50.3.2 to easy-install.pth file\n",
            "Installing easy_install script to /usr/local/bin\n",
            "Installing easy_install-3.8 script to /usr/local/bin\n",
            "\n",
            "Using /usr/local/lib/python3.6/dist-packages\n",
            "Searching for decorator==4.4.2\n",
            "Best match: decorator 4.4.2\n",
            "Adding decorator 4.4.2 to easy-install.pth file\n",
            "\n",
            "Using /usr/local/lib/python3.6/dist-packages\n",
            "Searching for python-dateutil==2.8.1\n",
            "Best match: python-dateutil 2.8.1\n",
            "Adding python-dateutil 2.8.1 to easy-install.pth file\n",
            "\n",
            "Using /usr/local/lib/python3.6/dist-packages\n",
            "Searching for defusedxml==0.6.0\n",
            "Best match: defusedxml 0.6.0\n",
            "Adding defusedxml 0.6.0 to easy-install.pth file\n",
            "\n",
            "Using /usr/local/lib/python3.6/dist-packages\n",
            "Searching for Pygments==2.6.1\n",
            "Best match: Pygments 2.6.1\n",
            "Adding Pygments 2.6.1 to easy-install.pth file\n",
            "Installing pygmentize script to /usr/local/bin\n",
            "\n",
            "Using /usr/local/lib/python3.6/dist-packages\n",
            "Searching for pandocfilters==1.4.3\n",
            "Best match: pandocfilters 1.4.3\n",
            "Adding pandocfilters 1.4.3 to easy-install.pth file\n",
            "\n",
            "Using /usr/local/lib/python3.6/dist-packages\n",
            "Searching for mistune==0.8.4\n",
            "Best match: mistune 0.8.4\n",
            "Adding mistune 0.8.4 to easy-install.pth file\n",
            "\n",
            "Using /usr/local/lib/python3.6/dist-packages\n",
            "Searching for entrypoints==0.3\n",
            "Best match: entrypoints 0.3\n",
            "Adding entrypoints 0.3 to easy-install.pth file\n",
            "\n",
            "Using /usr/local/lib/python3.6/dist-packages\n",
            "Searching for bleach==3.2.1\n",
            "Best match: bleach 3.2.1\n",
            "Adding bleach 3.2.1 to easy-install.pth file\n",
            "\n",
            "Using /usr/local/lib/python3.6/dist-packages\n",
            "Searching for testpath==0.4.4\n",
            "Best match: testpath 0.4.4\n",
            "Adding testpath 0.4.4 to easy-install.pth file\n",
            "\n",
            "Using /usr/local/lib/python3.6/dist-packages\n",
            "Searching for ptyprocess==0.6.0\n",
            "Best match: ptyprocess 0.6.0\n",
            "Adding ptyprocess 0.6.0 to easy-install.pth file\n",
            "\n",
            "Using /usr/local/lib/python3.6/dist-packages\n",
            "Searching for MarkupSafe==1.1.1\n",
            "Best match: MarkupSafe 1.1.1\n",
            "Adding MarkupSafe 1.1.1 to easy-install.pth file\n",
            "\n",
            "Using /usr/local/lib/python3.6/dist-packages\n",
            "Searching for ipython==5.5.0\n",
            "Best match: ipython 5.5.0\n",
            "Adding ipython 5.5.0 to easy-install.pth file\n",
            "Installing iptest script to /usr/local/bin\n",
            "Installing iptest3 script to /usr/local/bin\n",
            "Installing ipython script to /usr/local/bin\n",
            "Installing ipython3 script to /usr/local/bin\n",
            "\n",
            "Using /usr/local/lib/python3.6/dist-packages\n",
            "Searching for jsonschema==2.6.0\n",
            "Best match: jsonschema 2.6.0\n",
            "Adding jsonschema 2.6.0 to easy-install.pth file\n",
            "Installing jsonschema script to /usr/local/bin\n",
            "\n",
            "Using /usr/local/lib/python3.6/dist-packages\n",
            "Searching for python-engineio==4.0.0\n",
            "Best match: python-engineio 4.0.0\n",
            "Adding python-engineio 4.0.0 to easy-install.pth file\n",
            "\n",
            "Using /usr/local/lib/python3.6/dist-packages\n",
            "Searching for bidict==0.21.2\n",
            "Best match: bidict 0.21.2\n",
            "Adding bidict 0.21.2 to easy-install.pth file\n",
            "\n",
            "Using /usr/local/lib/python3.6/dist-packages\n",
            "Searching for netifaces==0.10.9\n",
            "Best match: netifaces 0.10.9\n",
            "Adding netifaces 0.10.9 to easy-install.pth file\n",
            "\n",
            "Using /usr/local/lib/python3.6/dist-packages\n",
            "Searching for pycparser==2.20\n",
            "Best match: pycparser 2.20\n",
            "Adding pycparser 2.20 to easy-install.pth file\n",
            "\n",
            "Using /usr/local/lib/python3.6/dist-packages\n",
            "Searching for packaging==20.4\n",
            "Best match: packaging 20.4\n",
            "Adding packaging 20.4 to easy-install.pth file\n",
            "\n",
            "Using /usr/local/lib/python3.6/dist-packages\n",
            "Searching for webencodings==0.5.1\n",
            "Best match: webencodings 0.5.1\n",
            "Adding webencodings 0.5.1 to easy-install.pth file\n",
            "\n",
            "Using /usr/local/lib/python3.6/dist-packages\n",
            "Searching for prompt-toolkit==1.0.18\n",
            "Best match: prompt-toolkit 1.0.18\n",
            "Adding prompt-toolkit 1.0.18 to easy-install.pth file\n",
            "\n",
            "Using /usr/local/lib/python3.6/dist-packages\n",
            "Searching for pexpect==4.8.0\n",
            "Best match: pexpect 4.8.0\n",
            "Adding pexpect 4.8.0 to easy-install.pth file\n",
            "\n",
            "Using /usr/local/lib/python3.6/dist-packages\n",
            "Searching for pickleshare==0.7.5\n",
            "Best match: pickleshare 0.7.5\n",
            "Adding pickleshare 0.7.5 to easy-install.pth file\n",
            "\n",
            "Using /usr/local/lib/python3.6/dist-packages\n",
            "Searching for simplegeneric==0.8.1\n",
            "Best match: simplegeneric 0.8.1\n",
            "Adding simplegeneric 0.8.1 to easy-install.pth file\n",
            "\n",
            "Using /usr/local/lib/python3.6/dist-packages\n",
            "Searching for pyparsing==2.4.7\n",
            "Best match: pyparsing 2.4.7\n",
            "Adding pyparsing 2.4.7 to easy-install.pth file\n",
            "\n",
            "Using /usr/local/lib/python3.6/dist-packages\n",
            "Searching for wcwidth==0.2.5\n",
            "Best match: wcwidth 0.2.5\n",
            "Adding wcwidth 0.2.5 to easy-install.pth file\n",
            "\n",
            "Using /usr/local/lib/python3.6/dist-packages\n",
            "Finished processing dependencies for syfertext==0.0.1\n"
          ],
          "name": "stdout"
        }
      ]
    },
    {
      "cell_type": "code",
      "metadata": {
        "id": "dS-ByM7A8tGT",
        "colab": {
          "base_uri": "https://localhost:8080/"
        },
        "outputId": "ab5f8e34-37f7-4c4b-a87c-f50eb4c3169c"
      },
      "source": [
        "%cd SyferText/"
      ],
      "execution_count": null,
      "outputs": [
        {
          "output_type": "stream",
          "text": [
            "/content/SyferText\n"
          ],
          "name": "stdout"
        }
      ]
    },
    {
      "cell_type": "code",
      "metadata": {
        "id": "9eAbiDk-9XnG",
        "colab": {
          "base_uri": "https://localhost:8080/",
          "height": 1000
        },
        "outputId": "407548dc-b289-4a3f-99b7-c11255e06880"
      },
      "source": [
        "!pip install syft==0.2.9"
      ],
      "execution_count": null,
      "outputs": [
        {
          "output_type": "stream",
          "text": [
            "Collecting syft==0.2.9\n",
            "  Using cached https://files.pythonhosted.org/packages/1c/73/891ba1dca7e0ba77be211c36688f083184d8c9d5901b8cd59cbf867052f3/syft-0.2.9-py3-none-any.whl\n",
            "Requirement already satisfied: dill~=0.3.1 in /usr/local/lib/python3.6/dist-packages (from syft==0.2.9) (0.3.3)\n",
            "Requirement already satisfied: Flask~=1.1.1 in /usr/local/lib/python3.6/dist-packages (from syft==0.2.9) (1.1.2)\n",
            "Requirement already satisfied: notebook==5.7.8 in /usr/local/lib/python3.6/dist-packages (from syft==0.2.9) (5.7.8)\n",
            "Requirement already satisfied: shaloop==0.2.1-alpha.11 in /usr/local/lib/python3.6/dist-packages (from syft==0.2.9) (0.2.1a11)\n",
            "Requirement already satisfied: websockets~=8.1.0 in /usr/local/lib/python3.6/dist-packages (from syft==0.2.9) (8.1)\n",
            "Requirement already satisfied: psutil==5.7.0 in /usr/local/lib/python3.6/dist-packages (from syft==0.2.9) (5.7.0)\n",
            "Requirement already satisfied: msgpack~=1.0.0 in /usr/local/lib/python3.6/dist-packages (from syft==0.2.9) (1.0.0)\n",
            "Requirement already satisfied: openmined.threepio==0.2.0 in /usr/local/lib/python3.6/dist-packages (from syft==0.2.9) (0.2.0)\n",
            "Requirement already satisfied: RestrictedPython~=5.0 in /usr/local/lib/python3.6/dist-packages (from syft==0.2.9) (5.1)\n",
            "Requirement already satisfied: aiortc==0.9.28 in /usr/local/lib/python3.6/dist-packages (from syft==0.2.9) (0.9.28)\n",
            "Requirement already satisfied: numpy~=1.18.1 in /usr/local/lib/python3.6/dist-packages (from syft==0.2.9) (1.18.2)\n",
            "Requirement already satisfied: torch~=1.4.0 in /usr/local/lib/python3.6/dist-packages (from syft==0.2.9) (1.4.0)\n",
            "Collecting Pillow>=7.1.0\n",
            "  Using cached https://files.pythonhosted.org/packages/5f/19/d4c25111d36163698396f93c363114cf1cddbacb24744f6612f25b6aa3d0/Pillow-8.0.1-cp36-cp36m-manylinux1_x86_64.whl\n",
            "Requirement already satisfied: lz4~=3.0.2 in /usr/local/lib/python3.6/dist-packages (from syft==0.2.9) (3.0.2)\n",
            "Requirement already satisfied: tornado==4.5.3 in /usr/local/lib/python3.6/dist-packages (from syft==0.2.9) (4.5.3)\n",
            "Requirement already satisfied: requests~=2.22.0 in /usr/local/lib/python3.6/dist-packages (from syft==0.2.9) (2.22.0)\n",
            "Requirement already satisfied: requests-toolbelt==0.9.1 in /usr/local/lib/python3.6/dist-packages (from syft==0.2.9) (0.9.1)\n",
            "Requirement already satisfied: flask-socketio~=4.2.1 in /usr/local/lib/python3.6/dist-packages (from syft==0.2.9) (4.2.1)\n",
            "Requirement already satisfied: phe~=1.4.0 in /usr/local/lib/python3.6/dist-packages (from syft==0.2.9) (1.4.0)\n",
            "Requirement already satisfied: scipy~=1.4.1 in /usr/local/lib/python3.6/dist-packages (from syft==0.2.9) (1.4.1)\n",
            "Requirement already satisfied: importlib-resources~=1.5.0 in /usr/local/lib/python3.6/dist-packages (from syft==0.2.9) (1.5.0)\n",
            "Collecting syft-proto~=0.5.2\n",
            "  Using cached https://files.pythonhosted.org/packages/da/88/67edf7836ac4eab723416933cd663c4f87753d3ff31337f91701c0b75474/syft_proto-0.5.3-py3-none-any.whl\n",
            "Requirement already satisfied: websocket-client~=0.57.0 in /usr/local/lib/python3.6/dist-packages (from syft==0.2.9) (0.57.0)\n",
            "Requirement already satisfied: torchvision~=0.5.0 in /usr/local/lib/python3.6/dist-packages (from syft==0.2.9) (0.5.0)\n",
            "Requirement already satisfied: tblib~=1.6.0 in /usr/local/lib/python3.6/dist-packages (from syft==0.2.9) (1.6.0)\n",
            "Requirement already satisfied: itsdangerous>=0.24 in /usr/local/lib/python3.6/dist-packages (from Flask~=1.1.1->syft==0.2.9) (1.1.0)\n",
            "Requirement already satisfied: click>=5.1 in /usr/local/lib/python3.6/dist-packages (from Flask~=1.1.1->syft==0.2.9) (7.1.2)\n",
            "Requirement already satisfied: Jinja2>=2.10.1 in /usr/local/lib/python3.6/dist-packages (from Flask~=1.1.1->syft==0.2.9) (2.11.2)\n",
            "Requirement already satisfied: Werkzeug>=0.15 in /usr/local/lib/python3.6/dist-packages (from Flask~=1.1.1->syft==0.2.9) (1.0.1)\n",
            "Requirement already satisfied: jupyter-client>=5.2.0 in /usr/local/lib/python3.6/dist-packages (from notebook==5.7.8->syft==0.2.9) (5.3.5)\n",
            "Requirement already satisfied: terminado>=0.8.1 in /usr/local/lib/python3.6/dist-packages (from notebook==5.7.8->syft==0.2.9) (0.9.1)\n",
            "Requirement already satisfied: Send2Trash in /usr/local/lib/python3.6/dist-packages (from notebook==5.7.8->syft==0.2.9) (1.5.0)\n",
            "Requirement already satisfied: pyzmq>=17 in /usr/local/lib/python3.6/dist-packages (from notebook==5.7.8->syft==0.2.9) (20.0.0)\n",
            "Requirement already satisfied: nbformat in /usr/local/lib/python3.6/dist-packages (from notebook==5.7.8->syft==0.2.9) (5.0.8)\n",
            "Requirement already satisfied: nbconvert in /usr/local/lib/python3.6/dist-packages (from notebook==5.7.8->syft==0.2.9) (5.6.1)\n",
            "Requirement already satisfied: traitlets>=4.2.1 in /usr/local/lib/python3.6/dist-packages (from notebook==5.7.8->syft==0.2.9) (4.3.3)\n",
            "Requirement already satisfied: ipython-genutils in /usr/local/lib/python3.6/dist-packages (from notebook==5.7.8->syft==0.2.9) (0.2.0)\n",
            "Requirement already satisfied: jupyter-core>=4.4.0 in /usr/local/lib/python3.6/dist-packages (from notebook==5.7.8->syft==0.2.9) (4.7.0)\n",
            "Requirement already satisfied: ipykernel in /usr/local/lib/python3.6/dist-packages (from notebook==5.7.8->syft==0.2.9) (4.10.1)\n",
            "Requirement already satisfied: prometheus-client in /usr/local/lib/python3.6/dist-packages (from notebook==5.7.8->syft==0.2.9) (0.9.0)\n",
            "Requirement already satisfied: cffi>=1 in /usr/local/lib/python3.6/dist-packages (from shaloop==0.2.1-alpha.11->syft==0.2.9) (1.14.3)\n",
            "Requirement already satisfied: pycparser>=2 in /usr/local/lib/python3.6/dist-packages (from shaloop==0.2.1-alpha.11->syft==0.2.9) (2.20)\n",
            "Requirement already satisfied: pylibsrtp>=0.5.6 in /usr/local/lib/python3.6/dist-packages (from aiortc==0.9.28->syft==0.2.9) (0.6.7)\n",
            "Requirement already satisfied: crc32c in /usr/local/lib/python3.6/dist-packages (from aiortc==0.9.28->syft==0.2.9) (2.2)\n",
            "Requirement already satisfied: cryptography>=2.2 in /usr/local/lib/python3.6/dist-packages (from aiortc==0.9.28->syft==0.2.9) (3.2.1)\n",
            "Requirement already satisfied: pyee>=6.0.0 in /usr/local/lib/python3.6/dist-packages (from aiortc==0.9.28->syft==0.2.9) (8.1.0)\n",
            "Requirement already satisfied: aioice<0.7.0,>=0.6.17 in /usr/local/lib/python3.6/dist-packages (from aiortc==0.9.28->syft==0.2.9) (0.6.18)\n",
            "Requirement already satisfied: dataclasses; python_version < \"3.7\" in /usr/local/lib/python3.6/dist-packages (from aiortc==0.9.28->syft==0.2.9) (0.8)\n",
            "Requirement already satisfied: av<9.0.0,>=8.0.0 in /usr/local/lib/python3.6/dist-packages (from aiortc==0.9.28->syft==0.2.9) (8.0.2)\n",
            "Requirement already satisfied: chardet<3.1.0,>=3.0.2 in /usr/local/lib/python3.6/dist-packages (from requests~=2.22.0->syft==0.2.9) (3.0.4)\n",
            "Requirement already satisfied: urllib3!=1.25.0,!=1.25.1,<1.26,>=1.21.1 in /usr/local/lib/python3.6/dist-packages (from requests~=2.22.0->syft==0.2.9) (1.24.3)\n",
            "Requirement already satisfied: certifi>=2017.4.17 in /usr/local/lib/python3.6/dist-packages (from requests~=2.22.0->syft==0.2.9) (2020.11.8)\n",
            "Requirement already satisfied: idna<2.9,>=2.5 in /usr/local/lib/python3.6/dist-packages (from requests~=2.22.0->syft==0.2.9) (2.8)\n",
            "Requirement already satisfied: python-socketio>=4.3.0 in /usr/local/lib/python3.6/dist-packages (from flask-socketio~=4.2.1->syft==0.2.9) (5.0.1)\n",
            "Requirement already satisfied: zipp>=0.4; python_version < \"3.8\" in /usr/local/lib/python3.6/dist-packages (from importlib-resources~=1.5.0->syft==0.2.9) (3.4.0)\n",
            "Requirement already satisfied: importlib-metadata; python_version < \"3.8\" in /usr/local/lib/python3.6/dist-packages (from importlib-resources~=1.5.0->syft==0.2.9) (2.0.0)\n",
            "Requirement already satisfied: protobuf>=3.12.2 in /usr/local/lib/python3.6/dist-packages (from syft-proto~=0.5.2->syft==0.2.9) (3.12.4)\n",
            "Requirement already satisfied: six in /usr/local/lib/python3.6/dist-packages (from websocket-client~=0.57.0->syft==0.2.9) (1.15.0)\n",
            "Requirement already satisfied: MarkupSafe>=0.23 in /usr/local/lib/python3.6/dist-packages (from Jinja2>=2.10.1->Flask~=1.1.1->syft==0.2.9) (1.1.1)\n",
            "Requirement already satisfied: python-dateutil>=2.1 in /usr/local/lib/python3.6/dist-packages (from jupyter-client>=5.2.0->notebook==5.7.8->syft==0.2.9) (2.8.1)\n",
            "Requirement already satisfied: ptyprocess; os_name != \"nt\" in /usr/local/lib/python3.6/dist-packages (from terminado>=0.8.1->notebook==5.7.8->syft==0.2.9) (0.6.0)\n",
            "Requirement already satisfied: jsonschema!=2.5.0,>=2.4 in /usr/local/lib/python3.6/dist-packages (from nbformat->notebook==5.7.8->syft==0.2.9) (2.6.0)\n",
            "Requirement already satisfied: bleach in /usr/local/lib/python3.6/dist-packages (from nbconvert->notebook==5.7.8->syft==0.2.9) (3.2.1)\n",
            "Requirement already satisfied: entrypoints>=0.2.2 in /usr/local/lib/python3.6/dist-packages (from nbconvert->notebook==5.7.8->syft==0.2.9) (0.3)\n",
            "Requirement already satisfied: defusedxml in /usr/local/lib/python3.6/dist-packages (from nbconvert->notebook==5.7.8->syft==0.2.9) (0.6.0)\n",
            "Requirement already satisfied: testpath in /usr/local/lib/python3.6/dist-packages (from nbconvert->notebook==5.7.8->syft==0.2.9) (0.4.4)\n",
            "Requirement already satisfied: pandocfilters>=1.4.1 in /usr/local/lib/python3.6/dist-packages (from nbconvert->notebook==5.7.8->syft==0.2.9) (1.4.3)\n",
            "Requirement already satisfied: pygments in /usr/local/lib/python3.6/dist-packages (from nbconvert->notebook==5.7.8->syft==0.2.9) (2.6.1)\n",
            "Requirement already satisfied: mistune<2,>=0.8.1 in /usr/local/lib/python3.6/dist-packages (from nbconvert->notebook==5.7.8->syft==0.2.9) (0.8.4)\n",
            "Requirement already satisfied: decorator in /usr/local/lib/python3.6/dist-packages (from traitlets>=4.2.1->notebook==5.7.8->syft==0.2.9) (4.4.2)\n",
            "Requirement already satisfied: ipython>=4.0.0 in /usr/local/lib/python3.6/dist-packages (from ipykernel->notebook==5.7.8->syft==0.2.9) (5.5.0)\n",
            "Requirement already satisfied: netifaces in /usr/local/lib/python3.6/dist-packages (from aioice<0.7.0,>=0.6.17->aiortc==0.9.28->syft==0.2.9) (0.10.9)\n",
            "Requirement already satisfied: python-engineio>=4 in /usr/local/lib/python3.6/dist-packages (from python-socketio>=4.3.0->flask-socketio~=4.2.1->syft==0.2.9) (4.0.0)\n",
            "Requirement already satisfied: bidict>=0.21.0 in /usr/local/lib/python3.6/dist-packages (from python-socketio>=4.3.0->flask-socketio~=4.2.1->syft==0.2.9) (0.21.2)\n",
            "Requirement already satisfied: setuptools in /usr/local/lib/python3.6/dist-packages (from protobuf>=3.12.2->syft-proto~=0.5.2->syft==0.2.9) (50.3.2)\n",
            "Requirement already satisfied: packaging in /usr/local/lib/python3.6/dist-packages (from bleach->nbconvert->notebook==5.7.8->syft==0.2.9) (20.4)\n",
            "Requirement already satisfied: webencodings in /usr/local/lib/python3.6/dist-packages (from bleach->nbconvert->notebook==5.7.8->syft==0.2.9) (0.5.1)\n",
            "Requirement already satisfied: simplegeneric>0.8 in /usr/local/lib/python3.6/dist-packages (from ipython>=4.0.0->ipykernel->notebook==5.7.8->syft==0.2.9) (0.8.1)\n",
            "Requirement already satisfied: prompt-toolkit<2.0.0,>=1.0.4 in /usr/local/lib/python3.6/dist-packages (from ipython>=4.0.0->ipykernel->notebook==5.7.8->syft==0.2.9) (1.0.18)\n",
            "Requirement already satisfied: pickleshare in /usr/local/lib/python3.6/dist-packages (from ipython>=4.0.0->ipykernel->notebook==5.7.8->syft==0.2.9) (0.7.5)\n",
            "Requirement already satisfied: pexpect; sys_platform != \"win32\" in /usr/local/lib/python3.6/dist-packages (from ipython>=4.0.0->ipykernel->notebook==5.7.8->syft==0.2.9) (4.8.0)\n",
            "Requirement already satisfied: pyparsing>=2.0.2 in /usr/local/lib/python3.6/dist-packages (from packaging->bleach->nbconvert->notebook==5.7.8->syft==0.2.9) (2.4.7)\n",
            "Requirement already satisfied: wcwidth in /usr/local/lib/python3.6/dist-packages (from prompt-toolkit<2.0.0,>=1.0.4->ipython>=4.0.0->ipykernel->notebook==5.7.8->syft==0.2.9) (0.2.5)\n",
            "\u001b[31mERROR: bokeh 2.1.1 has requirement tornado>=5.1, but you'll have tornado 4.5.3 which is incompatible.\u001b[0m\n",
            "\u001b[31mERROR: albumentations 0.1.12 has requirement imgaug<0.2.7,>=0.2.5, but you'll have imgaug 0.2.9 which is incompatible.\u001b[0m\n",
            "\u001b[31mERROR: syfertext 0.0.1 has requirement syft==0.2.8, but you'll have syft 0.2.9 which is incompatible.\u001b[0m\n",
            "\u001b[31mERROR: syfertext 0.0.1 has requirement tqdm==4.36.1, but you'll have tqdm 4.41.1 which is incompatible.\u001b[0m\n",
            "Installing collected packages: Pillow, syft-proto, syft\n",
            "  Found existing installation: Pillow 6.2.2\n",
            "    Uninstalling Pillow-6.2.2:\n",
            "      Successfully uninstalled Pillow-6.2.2\n",
            "  Found existing installation: syft-proto 0.4.10\n",
            "    Uninstalling syft-proto-0.4.10:\n",
            "      Successfully uninstalled syft-proto-0.4.10\n",
            "  Found existing installation: syft 0.2.5\n",
            "    Uninstalling syft-0.2.5:\n",
            "      Successfully uninstalled syft-0.2.5\n",
            "Successfully installed Pillow-8.0.1 syft-0.2.9 syft-proto-0.5.3\n"
          ],
          "name": "stdout"
        },
        {
          "output_type": "display_data",
          "data": {
            "application/vnd.colab-display-data+json": {
              "pip_warning": {
                "packages": [
                  "PIL"
                ]
              }
            }
          },
          "metadata": {
            "tags": []
          }
        }
      ]
    },
    {
      "cell_type": "code",
      "metadata": {
        "id": "mUeLfTQ4zUto",
        "colab": {
          "base_uri": "https://localhost:8080/"
        },
        "outputId": "48979c8d-cef7-40ad-c146-acc9514574f2"
      },
      "source": [
        "import sys, os\n",
        "if os.getcwd() not in sys.path:\n",
        "  sys.path.append(os.getcwd())\n",
        "\n",
        "import syfertext\n",
        "from syfertext.pipeline import SimpleTagger"
      ],
      "execution_count": null,
      "outputs": [
        {
          "output_type": "stream",
          "text": [
            "WARNING:root:Torch was already hooked... skipping hooking process\n",
            "WARNING:root:Torch was already hooked... skipping hooking process\n",
            "WARNING:root:Torch was already hooked... skipping hooking process\n"
          ],
          "name": "stderr"
        }
      ]
    },
    {
      "cell_type": "code",
      "metadata": {
        "id": "0ArRQtZr8w8V",
        "colab": {
          "base_uri": "https://localhost:8080/"
        },
        "outputId": "cb9a4acb-6831-46ec-d031-d2ae6f450515"
      },
      "source": [
        "%cd .."
      ],
      "execution_count": null,
      "outputs": [
        {
          "output_type": "stream",
          "text": [
            "/content\n"
          ],
          "name": "stdout"
        }
      ]
    },
    {
      "cell_type": "code",
      "metadata": {
        "id": "qYzAFiIu6vaO",
        "colab": {
          "base_uri": "https://localhost:8080/"
        },
        "outputId": "ae571706-ab1d-4088-b8b7-e1c7896690cb"
      },
      "source": [
        "sys.path"
      ],
      "execution_count": null,
      "outputs": [
        {
          "output_type": "execute_result",
          "data": {
            "text/plain": [
              "['',\n",
              " '/env/python',\n",
              " '/usr/lib/python36.zip',\n",
              " '/usr/lib/python3.6',\n",
              " '/usr/lib/python3.6/lib-dynload',\n",
              " '/usr/local/lib/python3.6/dist-packages',\n",
              " '/usr/local/lib/python3.6/dist-packages/syfertext-0.0.1-py3.6.egg',\n",
              " '/usr/local/lib/python3.6/dist-packages/syft-0.2.8-py3.6.egg',\n",
              " '/usr/local/lib/python3.6/dist-packages/mmh3-2.5.1-py3.6-linux-x86_64.egg',\n",
              " '/usr/local/lib/python3.6/dist-packages/tqdm-4.36.1-py3.6.egg',\n",
              " '/usr/local/lib/python3.6/dist-packages/syft_proto-0.5.3-py3.6.egg',\n",
              " '/usr/lib/python3/dist-packages',\n",
              " '/usr/local/lib/python3.6/dist-packages/IPython/extensions',\n",
              " '/root/.ipython',\n",
              " '/content/SyferText']"
            ]
          },
          "metadata": {
            "tags": []
          },
          "execution_count": 8
        }
      ]
    },
    {
      "cell_type": "markdown",
      "metadata": {
        "id": "r1jhR8iRItw8"
      },
      "source": [
        "### Virtual environment using PySyft"
      ]
    },
    {
      "cell_type": "code",
      "metadata": {
        "id": "hknWbHCUItw7"
      },
      "source": [
        "import syft as sy\n",
        "from syft.generic.string import String\n",
        "\n",
        "import torch\n",
        "import torch.nn.functional as F\n",
        "from torch.utils.tensorboard import SummaryWriter\n",
        "from torch.utils.data import DataLoader\n",
        "from torch.utils.data import Dataset\n",
        "import torch.optim as optim\n",
        "\n",
        "import numpy as np\n",
        "import csv\n",
        "import os\n",
        "from pprint import pprint"
      ],
      "execution_count": null,
      "outputs": []
    },
    {
      "cell_type": "markdown",
      "metadata": {
        "id": "w9SjX6ow5WCd"
      },
      "source": [
        "A work environment is simulated with three main actors - a company and two clients owning two private datasets (Bob and Alice), and also a crypto provider which will provide the primitives for Secure Multi-Party Computation (SMPC). "
      ]
    },
    {
      "cell_type": "code",
      "metadata": {
        "id": "TjlHPnOsItw8",
        "colab": {
          "base_uri": "https://localhost:8080/"
        },
        "outputId": "63fbbe77-5eee-4f00-9959-bf39821e276c"
      },
      "source": [
        "# Create a torch hook for PySyft\n",
        "hook = sy.TorchHook(torch)\n",
        "\n",
        "# Create some PySyft workers\n",
        "me = hook.local_worker # This is the worker representing the deep learning company\n",
        "bob = sy.VirtualWorker(hook, id = 'bob') # Bob owns the first dataset\n",
        "alice = sy.VirtualWorker(hook, id = 'alice') # Alice owns the second dataset\n",
        "\n",
        "crypto_provider = sy.VirtualWorker(hook, id = 'crypto_provider') # provides encryption primitive for SMPC"
      ],
      "execution_count": null,
      "outputs": [
        {
          "output_type": "stream",
          "text": [
            "WARNING:root:Torch was already hooked... skipping hooking process\n"
          ],
          "name": "stderr"
        }
      ]
    },
    {
      "cell_type": "markdown",
      "metadata": {
        "id": "8kNQYVF2Itw8"
      },
      "source": [
        "### Loading dataset locally"
      ]
    },
    {
      "cell_type": "code",
      "metadata": {
        "id": "kFkVhBB8Itw8"
      },
      "source": [
        "dataset_path = 'data/train.csv'\n",
        "dataset_local = []"
      ],
      "execution_count": null,
      "outputs": []
    },
    {
      "cell_type": "code",
      "metadata": {
        "id": "cegz50pIItw8"
      },
      "source": [
        "with open(dataset_path, 'r') as dataset_file:\n",
        "  reader = csv.DictReader(dataset_file)\n",
        "  for elem in reader:\n",
        "    example = dict(text = String(elem['text']), label = 1 if elem['label'] == '1' else 0)\n",
        "    dataset_local.append(example)"
      ],
      "execution_count": null,
      "outputs": []
    },
    {
      "cell_type": "code",
      "metadata": {
        "id": "2Gg4UaEfItw8",
        "colab": {
          "base_uri": "https://localhost:8080/"
        },
        "outputId": "4e722766-c1d6-452c-fef7-97a70902d6f6"
      },
      "source": [
        "from random import randint\n",
        "\n",
        "random_index = randint(0,len(dataset_local))\n",
        "print(\"Entry #\",random_index)\n",
        "example = dataset_local[random_index]\n",
        "pprint(example)"
      ],
      "execution_count": null,
      "outputs": [
        {
          "output_type": "stream",
          "text": [
            "Entry # 4435\n",
            "{'label': 1,\n",
            " 'text': \"PREOPERATIVE DIAGNOSES:,1.  Intrauterine pregnancy of 39 weeks.,2.  Herpes simplex virus, positive by history.,3.  Hepatitis C, positive by history with low elevation of transaminases.,4.  Cephalopelvic disproportion.,5.  Asynclitism.,6.  Postpartum macrosomia.,POSTOPERATIVE DIAGNOSES:,1.  Intrauterine pregnancy of 39 weeks.,2.  Herpes simplex virus, positive by history.,3.  Hepatitis C, positive by history with low elevation of transaminases.,4.  Cephalopelvic disproportion.,5.  Asynclitism.,6.  Postpartum macrosomia.,7.  Delivery of viable 9 lb female neonate.,PROCEDURE PERFORMED: , Primary low transverse cervical cesarean section.,COMPLICATIONS:,  None.,ESTIMATED BLOOD LOSS: , About 600 cc.,Baby is doing well.  The patient's uterus is intact, bladder is intact.,HISTORY: , The patient is an approximately 25-year-old Caucasian female with gravida-4, para-1-0-2-1.  The patient's last menstrual period was in December of 2002 with a foreseeable due date on 09/16/03 confirmed by ultrasound.,The patient has a history of herpes simplex virus to which there is no active prodromal and no evidence of lesions.  The patient has a history of IVDA and contracted hepatitis C with slightly elevated liver transaminases.  The patient had been seen through our office for prenatal care.  The patient is on Valtrex.  The patient was found to be 3 cm about 40%, 0 to 9 engaged.  Bag of waters was ruptured.  She was on Pitocin.  She was contracting appropriately for a couple of hours or so with appropriate ________.  There was no cervical change noted.  Most probably because there was a sink vertex and that the head was too large to descend into the pelvis.  The patient was advised of this and we recommended cesarean section.  She agreed.  We discussed the surgery, foreseeable risks and complications, alternative treatment, the procedure itself, and recovery in layman's terms.  The patient's questions were answered.  I personally made sure that she understood every aspect of the consent and that she was comfortable with the understanding of what would transpire.,PROCEDURE:  ,The patient was then taken back to operative suite.  She was given anesthetic and sterilely prepped and draped.  Pfannenstiel incision was used.  A second knife was used to carry the incision down to the anterior rectus fascia.  Anterior rectus fascia was incised in the midline and carried bilaterally and the fascia was lifted off the underlying musculature.  The rectus muscles were separated.  The patient's peritoneum tented up towards the umbilicus and we entered the abdominal cavity.  There was a very thin lower uterine segment.  There seemed to be quite a large baby.  The patient had a small nick in the uterus.  Following the blunt end of the bladder knife going through the innermost layer of the myometrium and into the endometrial cavity, clear amniotic fluid was obtained.  A blunt low transverse cervical incision was made.  Following this, we placed a ________ on the very large fetal head.  The head was delivered following which we were able to deliver a large baby girl, 9 lb, good at tone and cry.  The patient then underwent removal of the placenta after the cord blood and ABG were taken.  The patient's uterus was examined.  There appeared to be no retained products.  The patient's uterine incision was reapproximated and sutured with #0 Vicryl in a running non-interlocking fashion, the second imbricating over the first.  The patient's uterus was hemostatic.  Bladder flap was reapproximated with #0 Vicryl.  The patient then underwent an irrigation at every level of closure and the patient was quite hemostatic.  We reapproximated the rectus musculature with care being taken not to incorporate any underlying structures.  The patient had three interrupted sutures of this.  The fascia was reapproximated with two stitches of #0 Vicryl going from each apex towards the midline.  The Scarpa's fascia was reapproximated with #0 gut.  There was noted no fascial defects and the skin was closed with #0 Vicryl.,Prior to closing the abdominal cavity, the uterus appeared to be intact and bladder appeared to have clear urine and appeared to be intact.  The patient was hemostatic.  All counts were correct and the patient tolerated the procedure well.  We will see her back in recovery.obstetrics / gynecology, intrauterine pregnancy, herpes simplex virus, hepatitis c, cephalopelvic disproportion, asynclitism, postpartum, macrosomia, low transverse cervical cesarean section, rectus fascia, cesarean section, intrauterine, transaminases, herpes, uterus, fascia, \"}\n"
          ],
          "name": "stdout"
        }
      ]
    },
    {
      "cell_type": "code",
      "metadata": {
        "id": "BOe7ljAsItw8",
        "colab": {
          "base_uri": "https://localhost:8080/"
        },
        "outputId": "0cc7f1a2-c755-4471-fc47-7246bad77687"
      },
      "source": [
        "print(type(example['text']))\n",
        "print(type(example['label']))"
      ],
      "execution_count": null,
      "outputs": [
        {
          "output_type": "stream",
          "text": [
            "<class 'syft.generic.string.String'>\n",
            "<class 'int'>\n"
          ],
          "name": "stdout"
        }
      ]
    },
    {
      "cell_type": "markdown",
      "metadata": {
        "id": "r2yzCV1OItw8"
      },
      "source": [
        "### Distributing documents privately\n",
        "\n",
        "We simulate two private datasets owned by two clients.\n",
        "\n",
        "1. Load the whole dataset in `mtsamples.csv` locally. The data will be loaded as a list of dictionaries that has the following format: `[ {'transcription': <transcription text>, 'label': <0 or 1>}, {...}, {...}]`\n",
        "\n",
        "\n",
        "2. Split the dataset into two parts, one for Bob and the other for Alice. Each part will be also split into a training set and a validation set. This will create four lists: `train_bob`, `valid_bob`, `train_alice`, `valid_alice`. Each list has the same format mentioned above.\n",
        "\n",
        "\n",
        "3. Each element in the four lists will be sent to the corresponding worker."
      ]
    },
    {
      "cell_type": "code",
      "metadata": {
        "id": "q1bBL0sAItw9"
      },
      "source": [
        "# Create two datasets, one for Bob and another one for Alice\n",
        "dataset_bob, dataset_alice = train_test_split(dataset_local[:25000], train_size = 0.5)\n",
        "\n",
        "train_bob, val_bob = train_test_split(dataset_bob, train_size = 0.9)\n",
        "train_alice, val_alice = train_test_split(dataset_alice, train_size = 0.9)"
      ],
      "execution_count": null,
      "outputs": []
    },
    {
      "cell_type": "markdown",
      "metadata": {
        "id": "99cwalVkItw9"
      },
      "source": [
        "Making the datasets remote:"
      ]
    },
    {
      "cell_type": "code",
      "metadata": {
        "id": "JW4tN5l4Itw9"
      },
      "source": [
        "# Sends the content of each split to a remote worker\n",
        "def make_remote_dataset(dataset, worker):\n",
        "    for example in dataset:        \n",
        "      example['text'] = example['text'].send(worker)\n",
        "      one_hot_label = torch.zeros(2).scatter(0, torch.Tensor([example['label']]).long(), 1)\n",
        "      example['label'] = one_hot_label.send(worker)"
      ],
      "execution_count": null,
      "outputs": []
    },
    {
      "cell_type": "code",
      "metadata": {
        "id": "UjTE59_YItw9"
      },
      "source": [
        "# Bob's remote dataset\n",
        "make_remote_dataset(train_bob, bob)\n",
        "make_remote_dataset(val_bob, bob)\n",
        "\n",
        "# Alice's remote dataset\n",
        "make_remote_dataset(train_alice, alice)\n",
        "make_remote_dataset(val_alice, alice)"
      ],
      "execution_count": null,
      "outputs": []
    },
    {
      "cell_type": "code",
      "metadata": {
        "id": "tApakAhLItw9",
        "colab": {
          "base_uri": "https://localhost:8080/"
        },
        "outputId": "b2c5fa06-05fe-4ec1-ffde-c9c1ea591f59"
      },
      "source": [
        "example = train_bob[0]\n",
        "\n",
        "print(type(example['text']))\n",
        "print(example['label'])"
      ],
      "execution_count": null,
      "outputs": [
        {
          "output_type": "stream",
          "text": [
            "<class 'syft.generic.pointers.string_pointer.StringPointer'>\n",
            "(Wrapper)>[PointerTensor | me:17004530703 -> bob:31056145251]\n"
          ],
          "name": "stdout"
        }
      ]
    },
    {
      "cell_type": "code",
      "metadata": {
        "id": "AiV2A-QxItw9",
        "colab": {
          "base_uri": "https://localhost:8080/"
        },
        "outputId": "e0098b15-e69f-457e-ab4d-045dee9d5b73"
      },
      "source": [
        "print(example['text'].location)\n",
        "print(example['label'].location)"
      ],
      "execution_count": null,
      "outputs": [
        {
          "output_type": "stream",
          "text": [
            "<VirtualWorker id:bob #objects:4498>\n",
            "<VirtualWorker id:bob #objects:4498>\n"
          ],
          "name": "stdout"
        }
      ]
    },
    {
      "cell_type": "markdown",
      "metadata": {
        "id": "atGm6F-CItw9"
      },
      "source": [
        "### Creating a `SyferText` Language object and a NLP pipeline"
      ]
    },
    {
      "cell_type": "code",
      "metadata": {
        "id": "like2wwGItw9"
      },
      "source": [
        "nlp = syfertext.load('en_core_web_lg', owner = me)"
      ],
      "execution_count": null,
      "outputs": []
    },
    {
      "cell_type": "code",
      "metadata": {
        "id": "vBVl_r1oItw9",
        "colab": {
          "base_uri": "https://localhost:8080/"
        },
        "outputId": "4a0a35f2-f106-4366-a6c6-3641aadc6dab"
      },
      "source": [
        "nlp.pipeline_template"
      ],
      "execution_count": null,
      "outputs": [
        {
          "output_type": "execute_result",
          "data": {
            "text/plain": [
              "[{'name': 'tokenizer', 'remote': True}]"
            ]
          },
          "metadata": {
            "tags": []
          },
          "execution_count": 34
        }
      ]
    },
    {
      "cell_type": "code",
      "metadata": {
        "id": "DJPcnFI1Itw9",
        "colab": {
          "base_uri": "https://localhost:8080/"
        },
        "outputId": "d48af935-b570-44f8-e173-d073a08ab05a"
      },
      "source": [
        "type(nlp)"
      ],
      "execution_count": null,
      "outputs": [
        {
          "output_type": "execute_result",
          "data": {
            "text/plain": [
              "syfertext.language.Language"
            ]
          },
          "metadata": {
            "tags": []
          },
          "execution_count": 35
        }
      ]
    },
    {
      "cell_type": "markdown",
      "metadata": {
        "id": "E63v8ynXItw9"
      },
      "source": [
        "### Adding the taggers to the pipeline"
      ]
    },
    {
      "cell_type": "code",
      "metadata": {
        "id": "AJoKT_c4Itw9"
      },
      "source": [
        "use_stop_tagger = True\n",
        "use_vocab_tagger = True\n",
        "\n",
        "excluded_tokens = {}"
      ],
      "execution_count": null,
      "outputs": []
    },
    {
      "cell_type": "markdown",
      "metadata": {
        "id": "BIs_mWAgItw9"
      },
      "source": [
        "### Creating a  tagger for stop words"
      ]
    },
    {
      "cell_type": "code",
      "metadata": {
        "id": "PN0bc9-DItw9"
      },
      "source": [
        "with open('./data/clinical-stopwords.txt', 'r') as f:\n",
        "  stop_words = set(f.read().splitlines())"
      ],
      "execution_count": null,
      "outputs": []
    },
    {
      "cell_type": "code",
      "metadata": {
        "id": "Y3ICMXQrItw9"
      },
      "source": [
        "stop_tagger = SimpleTagger(attribute = 'is_stop', lookups = stop_words, tag = True, default_tag = False, case_sensitive = False)"
      ],
      "execution_count": null,
      "outputs": []
    },
    {
      "cell_type": "code",
      "metadata": {
        "id": "yGzPEAvuItw9"
      },
      "source": [
        "if use_stop_tagger:\n",
        "  nlp.add_pipe(name = 'stop tagger', component = stop_tagger, remote = True)\n",
        "  excluded_tokens['is_stop'] = {True}"
      ],
      "execution_count": null,
      "outputs": []
    },
    {
      "cell_type": "markdown",
      "metadata": {
        "id": "rMKjVQKwItw9"
      },
      "source": [
        "### Creating a  tagger for vocabulary words"
      ]
    },
    {
      "cell_type": "code",
      "metadata": {
        "id": "aZbkRg0nItw9"
      },
      "source": [
        "with open('./data/vocab.txt', 'r') as f:\n",
        "  vocab_words = set(f.read().splitlines())"
      ],
      "execution_count": null,
      "outputs": []
    },
    {
      "cell_type": "code",
      "metadata": {
        "id": "ZwsTnaa1Itw-"
      },
      "source": [
        "vocab_tagger = SimpleTagger(attribute = 'is_vocab', lookups = vocab_words, tag = True, default_tag = False, case_sensitive = False)"
      ],
      "execution_count": null,
      "outputs": []
    },
    {
      "cell_type": "code",
      "metadata": {
        "id": "1UB69sNRItw-"
      },
      "source": [
        "if use_vocab_tagger: \n",
        "  nlp.add_pipe(name = 'vocab tagger', component = vocab_tagger, remote = True)\n",
        "  excluded_tokens['is_vocab'] = {False}"
      ],
      "execution_count": null,
      "outputs": []
    },
    {
      "cell_type": "code",
      "metadata": {
        "id": "Y4wetttQItw-",
        "colab": {
          "base_uri": "https://localhost:8080/"
        },
        "outputId": "1d99830f-6e8a-4885-d589-bb9bdc0a905f"
      },
      "source": [
        "nlp.pipeline_template"
      ],
      "execution_count": null,
      "outputs": [
        {
          "output_type": "execute_result",
          "data": {
            "text/plain": [
              "[{'name': 'tokenizer', 'remote': True},\n",
              " {'name': 'stop tagger', 'remote': True},\n",
              " {'name': 'vocab tagger', 'remote': True}]"
            ]
          },
          "metadata": {
            "tags": []
          },
          "execution_count": 43
        }
      ]
    },
    {
      "cell_type": "markdown",
      "metadata": {
        "id": "XoUxFAjTItw-"
      },
      "source": [
        "### Create and load datasets"
      ]
    },
    {
      "cell_type": "code",
      "metadata": {
        "id": "12CJCtMrItw-"
      },
      "source": [
        "# Code: https://github.com/OpenMined/SyferText/blob/master/tutorials/usecases/UC01%20-%20Sentiment%20Classifier%20-%20Private%20Datasets%20-%20(Secure%20Training).ipynb\n",
        "\n",
        "class DatasetMTS(Dataset):\n",
        "  def __init__(self, sets, share_workers, crypto_provider, nlp):\n",
        "    self.sets = sets\n",
        "    self.crypto_provider = crypto_provider\n",
        "    self.workers = share_workers\n",
        "\n",
        "    self._create_dataset()\n",
        "    \n",
        "    self.nlp = nlp\n",
        "      \n",
        "  def __getitem__(self, index):    \n",
        "    example = self.dataset[index]\n",
        "\n",
        "    doc_ptr = self.nlp(example['text'])\n",
        "    \n",
        "    vector_enc = doc_ptr.get_encrypted_vector(bob,  alice, crypto_provider = self.crypto_provider, requires_grad = True, excluded_tokens = excluded_tokens)\n",
        "    \n",
        "    label_enc = example['label'].fix_precision().share(bob, alice, crypto_provider = self.crypto_provider, requires_grad = True).get()\n",
        "\n",
        "    return vector_enc, label_enc\n",
        "    \n",
        "  def __len__(self):\n",
        "    return len(self.dataset)\n",
        "\n",
        "  def _create_dataset(self):\n",
        "    self.dataset = []\n",
        "  \n",
        "    for dataset in self.sets:\n",
        "        for example in dataset:\n",
        "            self.dataset.append(example)\n",
        "                \n",
        "  @staticmethod\n",
        "  def collate_fn(batch):\n",
        "    vectors, targets = list(zip(*batch))\n",
        "    vectors = torch.stack(vectors)    \n",
        "    targets = torch.stack(targets)        \n",
        "    \n",
        "    return vectors, targets"
      ],
      "execution_count": null,
      "outputs": []
    },
    {
      "cell_type": "code",
      "metadata": {
        "id": "Lhg1W20SItw-"
      },
      "source": [
        "trainset = DatasetMTS(sets = [train_bob, train_alice], share_workers = [bob, alice], crypto_provider = crypto_provider, nlp = nlp)\n",
        "\n",
        "valset = DatasetMTS(sets = [val_bob, val_alice], share_workers = [bob, alice], crypto_provider = crypto_provider, nlp = nlp)"
      ],
      "execution_count": null,
      "outputs": []
    },
    {
      "cell_type": "code",
      "metadata": {
        "id": "1qUdKWQTItw-",
        "colab": {
          "base_uri": "https://localhost:8080/"
        },
        "outputId": "99f1c4fd-1ee2-4580-d542-b322f70971dc"
      },
      "source": [
        "vec_enc, label_enc = trainset.__getitem__(1)\n",
        "print(f' Training Vector size is {vec_enc.shape[0]}')"
      ],
      "execution_count": null,
      "outputs": [
        {
          "output_type": "stream",
          "text": [
            " Training Vector size is 300\n"
          ],
          "name": "stdout"
        }
      ]
    },
    {
      "cell_type": "markdown",
      "metadata": {
        "id": "APAGmRnNItw-"
      },
      "source": [
        "### Training the model "
      ]
    },
    {
      "cell_type": "code",
      "metadata": {
        "id": "M8Ux2_K_Itw-"
      },
      "source": [
        "device = torch.device(\"cuda\" if torch.cuda.is_available() else \"cpu\")"
      ],
      "execution_count": null,
      "outputs": []
    },
    {
      "cell_type": "code",
      "metadata": {
        "id": "NjSR4cyAItw-"
      },
      "source": [
        "EMBED_DIM = vec_enc.shape[0]\n",
        "BATCH_SIZE = 128\n",
        "LEARNING_RATE = 0.001\n",
        "EPOCHS = 3\n",
        "NUM_CLASS = 2"
      ],
      "execution_count": null,
      "outputs": []
    },
    {
      "cell_type": "code",
      "metadata": {
        "id": "-dfB6T9uItw-"
      },
      "source": [
        "trainloader = DataLoader(trainset, shuffle = True, batch_size = BATCH_SIZE, num_workers = 0,  collate_fn = trainset.collate_fn)\n",
        "valloader = DataLoader(valset, shuffle = True, batch_size = BATCH_SIZE, num_workers = 0, collate_fn = valset.collate_fn)"
      ],
      "execution_count": null,
      "outputs": []
    },
    {
      "cell_type": "code",
      "metadata": {
        "id": "CdohhZbK8ViG"
      },
      "source": [
        "class RNN(torch.nn.Module):\n",
        "    \n",
        "    def __init__(self, in_features, out_features):\n",
        "        super(RNN, self).__init__()\n",
        "        \n",
        "        self.fc1 = torch.nn.Linear(in_features, 128)\n",
        "        self.fc2 = torch.nn.Linear(128, 64)\n",
        "        self.fc3 = torch.nn.Linear(64, 32)\n",
        "        self.fc4 = torch.nn.Linear(32, 16)\n",
        "        self.fc5 = torch.nn.Linear(16, out_features)\n",
        "                \n",
        "    def forward(self, inputs):\n",
        "\n",
        "        x = F.relu(self.fc1(inputs.squeeze(1)))\n",
        "        x = F.relu(self.fc2(x))\n",
        "        x = F.relu(self.fc3(x))\n",
        "        x = F.relu(self.fc4(x))\n",
        "\n",
        "        logits = self.fc5(x)\n",
        "        \n",
        "        probs = F.relu(logits)\n",
        "\n",
        "        return probs, logits"
      ],
      "execution_count": null,
      "outputs": []
    },
    {
      "cell_type": "code",
      "metadata": {
        "id": "_96Q_-KUItw-",
        "colab": {
          "base_uri": "https://localhost:8080/"
        },
        "outputId": "60dccc6f-1220-4975-a902-a574fa64da03"
      },
      "source": [
        "# Create the classifer\n",
        "model = RNN(in_features = EMBED_DIM, out_features = NUM_CLASS)\n",
        "\n",
        "# Apply SMPC encryption\n",
        "model = model.fix_precision().share(bob, alice, crypto_provider = crypto_provider, requires_grad = True)\n",
        "print(model)"
      ],
      "execution_count": null,
      "outputs": [
        {
          "output_type": "stream",
          "text": [
            "RNN(\n",
            "  (fc1): Linear(in_features=300, out_features=128, bias=True)\n",
            "  (fc2): Linear(in_features=128, out_features=64, bias=True)\n",
            "  (fc3): Linear(in_features=64, out_features=32, bias=True)\n",
            "  (fc4): Linear(in_features=32, out_features=16, bias=True)\n",
            "  (fc5): Linear(in_features=16, out_features=2, bias=True)\n",
            ")\n"
          ],
          "name": "stdout"
        }
      ]
    },
    {
      "cell_type": "code",
      "metadata": {
        "id": "dmWYzjbSItw-"
      },
      "source": [
        "optimizer = optim.SGD(params = model.parameters(),lr = LEARNING_RATE, momentum=0.3)\n",
        "optimizer = optimizer.fix_precision()"
      ],
      "execution_count": null,
      "outputs": []
    },
    {
      "cell_type": "code",
      "metadata": {
        "id": "CpMy6SZLItw-",
        "colab": {
          "base_uri": "https://localhost:8080/"
        },
        "outputId": "ec4a35da-1a2d-402d-9bf3-66f3fb70c390"
      },
      "source": [
        "print(optimizer)"
      ],
      "execution_count": null,
      "outputs": [
        {
          "output_type": "stream",
          "text": [
            "SGD (\n",
            "Parameter Group 0\n",
            "    dampening: 0\n",
            "    lr: FixedPrecisionTensor>tensor(1)\n",
            "    momentum: FixedPrecisionTensor>tensor(300)\n",
            "    nesterov: False\n",
            "    weight_decay: 0\n",
            ")\n"
          ],
          "name": "stdout"
        }
      ]
    },
    {
      "cell_type": "markdown",
      "metadata": {
        "id": "Pge58Ot-Itw_"
      },
      "source": [
        "### Tensorboard and Model Training"
      ]
    },
    {
      "cell_type": "code",
      "metadata": {
        "id": "SEnDmxdC9N48"
      },
      "source": [
        "writer = SummaryWriter()"
      ],
      "execution_count": null,
      "outputs": []
    },
    {
      "cell_type": "markdown",
      "metadata": {
        "id": "GZF-lNeoItw_"
      },
      "source": [
        "\n",
        "Open a terminal, navigate to the folder containing this notebook, and run:\n",
        "\n",
        "```\n",
        "$ tensorboard --logdir runs/\n",
        "```\n",
        "\n",
        "Open your browser and go to `localhost:6006`."
      ]
    },
    {
      "cell_type": "code",
      "metadata": {
        "scrolled": false,
        "id": "BzAKlmbRE4Rd",
        "outputId": "7d967fa0-faf0-4551-b6ec-23cab2f925ed"
      },
      "source": [
        "train_losses = []\n",
        "train_acc = []\n",
        "train_iter = []\n",
        "val_losses = []\n",
        "val_acc = []\n",
        "val_iter = []\n",
        "\n",
        "\n",
        "for epoch in range(EPOCHS):\n",
        "    \n",
        "    for iter, (vectors, targets) in enumerate(trainloader):\n",
        "      model.train()\n",
        "      optimizer.zero_grad()\n",
        "\n",
        "      probs, logits = model(vectors)\n",
        "      loss = ((probs -  targets)**2).sum()\n",
        "\n",
        "      preds = probs.argmax(dim=1)\n",
        "      targets = targets.argmax(dim=1)\n",
        "        \n",
        "      accuracy = (preds == targets).sum()\n",
        "      accuracy = accuracy.get().float_precision()\n",
        "      accuracy = 100 * (accuracy / BATCH_SIZE)\n",
        "        \n",
        "      loss.backward()\n",
        "  \n",
        "      optimizer.step()\n",
        "\n",
        "      loss = loss.get().float_precision()\n",
        "        \n",
        "      train_i = 1 + epoch * len(trainloader) + iter \n",
        "        \n",
        "      train_losses.append(loss.item())\n",
        "      train_iter.append(train_i)\n",
        "      train_acc.append(accuracy)\n",
        "\n",
        "      print(\"epoch:\",epoch+1,f'\\tLoss: {loss:.2f}(train)\\t|\\tAcc: {accuracy:.2f}%(train)', train_i)    \n",
        "\n",
        "      writer.add_scalar('train/loss', loss, train_i)\n",
        "      writer.add_scalar('train/acc', accuracy, train_i)\n",
        "\n",
        "      if train_i > 100:\n",
        "          break\n",
        "\n",
        "      model.eval()\n",
        "\n",
        "      for vectors, targets in valloader:\n",
        "        probs, logits = model(vectors)\n",
        "\n",
        "        loss = ((probs -  targets)**2).sum()\n",
        "\n",
        "        preds = probs.argmax(dim=1)\n",
        "        targets = targets.argmax(dim=1)\n",
        "\n",
        "        accuracy = preds.eq(targets).sum()\n",
        "        accuracy = accuracy.get().float_precision()\n",
        "        accuracy = 100 * (accuracy / BATCH_SIZE)\n",
        "\n",
        "        loss = loss.get().float_precision()\n",
        "        \n",
        "        val_i = 1 + epoch * len(trainloader) + iter \n",
        "        \n",
        "        val_losses.append(loss.item())\n",
        "        val_iter.append(val_i) \n",
        "        val_acc.append(accuracy)\n",
        "        \n",
        "        print(\"epoch:\",epoch+1,f'\\tLoss: {loss:.2f}(valid)\\t|\\tAcc: {accuracy:.2f}%(valid)', val_i)\n",
        "        \n",
        "        writer.add_scalar('val/loss', loss, val_i)\n",
        "        writer.add_scalar('val/acc', accuracy, val_i)\n",
        "          \n",
        "        break\n",
        "            \n",
        "writer.close()"
      ],
      "execution_count": null,
      "outputs": [
        {
          "output_type": "stream",
          "text": [
            "epoch: 1 \tLoss: 126.72(train)\t|\tAcc: 34.38%(train) 1\n",
            "epoch: 1 \tLoss: 110.43(valid)\t|\tAcc: 25.00%(valid) 1\n",
            "epoch: 1 \tLoss: 110.15(train)\t|\tAcc: 29.69%(train) 2\n",
            "epoch: 1 \tLoss: 70.01(valid)\t|\tAcc: 65.62%(valid) 2\n",
            "epoch: 1 \tLoss: 69.78(train)\t|\tAcc: 66.41%(train) 3\n",
            "epoch: 1 \tLoss: 55.28(valid)\t|\tAcc: 68.75%(valid) 3\n",
            "epoch: 1 \tLoss: 54.78(train)\t|\tAcc: 69.53%(train) 4\n",
            "epoch: 1 \tLoss: 58.21(valid)\t|\tAcc: 65.62%(valid) 4\n",
            "epoch: 1 \tLoss: 58.30(train)\t|\tAcc: 65.62%(train) 5\n",
            "epoch: 1 \tLoss: 52.95(valid)\t|\tAcc: 70.31%(valid) 5\n",
            "epoch: 1 \tLoss: 51.28(train)\t|\tAcc: 71.88%(train) 6\n",
            "epoch: 1 \tLoss: 51.35(valid)\t|\tAcc: 71.88%(valid) 6\n",
            "epoch: 1 \tLoss: 58.55(train)\t|\tAcc: 64.06%(train) 7\n",
            "epoch: 1 \tLoss: 53.36(valid)\t|\tAcc: 69.53%(valid) 7\n",
            "epoch: 1 \tLoss: 57.77(train)\t|\tAcc: 64.06%(train) 8\n",
            "epoch: 1 \tLoss: 50.95(valid)\t|\tAcc: 73.44%(valid) 8\n",
            "epoch: 1 \tLoss: 60.82(train)\t|\tAcc: 60.16%(train) 9\n",
            "epoch: 1 \tLoss: 54.16(valid)\t|\tAcc: 69.53%(valid) 9\n",
            "epoch: 1 \tLoss: 52.32(train)\t|\tAcc: 73.44%(train) 10\n",
            "epoch: 1 \tLoss: 55.87(valid)\t|\tAcc: 65.62%(valid) 10\n",
            "epoch: 1 \tLoss: 52.96(train)\t|\tAcc: 69.53%(train) 11\n",
            "epoch: 1 \tLoss: 47.56(valid)\t|\tAcc: 74.22%(valid) 11\n",
            "epoch: 1 \tLoss: 47.42(train)\t|\tAcc: 74.22%(train) 12\n",
            "epoch: 1 \tLoss: 44.21(valid)\t|\tAcc: 76.56%(valid) 12\n",
            "epoch: 1 \tLoss: 51.01(train)\t|\tAcc: 71.09%(train) 13\n",
            "epoch: 1 \tLoss: 55.31(valid)\t|\tAcc: 66.41%(valid) 13\n",
            "epoch: 1 \tLoss: 47.93(train)\t|\tAcc: 73.44%(train) 14\n",
            "epoch: 1 \tLoss: 46.97(valid)\t|\tAcc: 73.44%(valid) 14\n",
            "epoch: 1 \tLoss: 56.92(train)\t|\tAcc: 64.84%(train) 15\n",
            "epoch: 1 \tLoss: 49.70(valid)\t|\tAcc: 71.09%(valid) 15\n",
            "epoch: 1 \tLoss: 57.12(train)\t|\tAcc: 62.50%(train) 16\n",
            "epoch: 1 \tLoss: 51.90(valid)\t|\tAcc: 69.53%(valid) 16\n",
            "epoch: 1 \tLoss: 53.88(train)\t|\tAcc: 66.41%(train) 17\n",
            "epoch: 1 \tLoss: 55.24(valid)\t|\tAcc: 63.28%(valid) 17\n",
            "epoch: 1 \tLoss: 52.54(train)\t|\tAcc: 68.75%(train) 18\n",
            "epoch: 1 \tLoss: 46.98(valid)\t|\tAcc: 72.66%(valid) 18\n",
            "epoch: 1 \tLoss: 50.98(train)\t|\tAcc: 68.75%(train) 19\n",
            "epoch: 1 \tLoss: 41.29(valid)\t|\tAcc: 77.34%(valid) 19\n",
            "epoch: 1 \tLoss: 56.76(train)\t|\tAcc: 62.50%(train) 20\n",
            "epoch: 1 \tLoss: 44.30(valid)\t|\tAcc: 78.12%(valid) 20\n",
            "epoch: 1 \tLoss: 47.93(train)\t|\tAcc: 71.88%(train) 21\n",
            "epoch: 1 \tLoss: 48.75(valid)\t|\tAcc: 69.53%(valid) 21\n",
            "epoch: 1 \tLoss: 52.59(train)\t|\tAcc: 64.84%(train) 22\n",
            "epoch: 1 \tLoss: 48.28(valid)\t|\tAcc: 68.75%(valid) 22\n",
            "epoch: 1 \tLoss: 49.98(train)\t|\tAcc: 67.19%(train) 23\n",
            "epoch: 1 \tLoss: 45.07(valid)\t|\tAcc: 72.66%(valid) 23\n",
            "epoch: 1 \tLoss: 48.24(train)\t|\tAcc: 67.97%(train) 24\n",
            "epoch: 1 \tLoss: 44.93(valid)\t|\tAcc: 71.09%(valid) 24\n",
            "epoch: 1 \tLoss: 43.34(train)\t|\tAcc: 73.44%(train) 25\n",
            "epoch: 1 \tLoss: 47.41(valid)\t|\tAcc: 68.75%(valid) 25\n",
            "epoch: 1 \tLoss: 51.93(train)\t|\tAcc: 65.62%(train) 26\n",
            "epoch: 1 \tLoss: 44.00(valid)\t|\tAcc: 71.09%(valid) 26\n",
            "epoch: 1 \tLoss: 48.56(train)\t|\tAcc: 64.84%(train) 27\n",
            "epoch: 1 \tLoss: 44.23(valid)\t|\tAcc: 70.31%(valid) 27\n",
            "epoch: 1 \tLoss: 49.11(train)\t|\tAcc: 63.28%(train) 28\n",
            "epoch: 1 \tLoss: 45.68(valid)\t|\tAcc: 68.75%(valid) 28\n",
            "epoch: 1 \tLoss: 50.01(train)\t|\tAcc: 66.41%(train) 29\n",
            "epoch: 1 \tLoss: 41.94(valid)\t|\tAcc: 71.09%(valid) 29\n",
            "epoch: 1 \tLoss: 44.98(train)\t|\tAcc: 69.53%(train) 30\n",
            "epoch: 1 \tLoss: 42.33(valid)\t|\tAcc: 72.66%(valid) 30\n",
            "epoch: 1 \tLoss: 45.15(train)\t|\tAcc: 67.19%(train) 31\n",
            "epoch: 1 \tLoss: 45.28(valid)\t|\tAcc: 66.41%(valid) 31\n",
            "epoch: 1 \tLoss: 27.44(train)\t|\tAcc: 44.53%(train) 32\n",
            "epoch: 1 \tLoss: 42.38(valid)\t|\tAcc: 72.66%(valid) 32\n",
            "epoch: 2 \tLoss: 38.62(train)\t|\tAcc: 76.56%(train) 33\n",
            "epoch: 2 \tLoss: 44.04(valid)\t|\tAcc: 66.41%(valid) 33\n",
            "epoch: 2 \tLoss: 49.57(train)\t|\tAcc: 64.06%(train) 34\n",
            "epoch: 2 \tLoss: 41.53(valid)\t|\tAcc: 76.56%(valid) 34\n",
            "epoch: 2 \tLoss: 46.55(train)\t|\tAcc: 69.53%(train) 35\n",
            "epoch: 2 \tLoss: 42.76(valid)\t|\tAcc: 73.44%(valid) 35\n",
            "epoch: 2 \tLoss: 43.21(train)\t|\tAcc: 79.69%(train) 36\n",
            "epoch: 2 \tLoss: 38.52(valid)\t|\tAcc: 78.12%(valid) 36\n",
            "epoch: 2 \tLoss: 52.69(train)\t|\tAcc: 65.62%(train) 37\n",
            "epoch: 2 \tLoss: 43.92(valid)\t|\tAcc: 77.34%(valid) 37\n",
            "epoch: 2 \tLoss: 43.76(train)\t|\tAcc: 78.12%(train) 38\n",
            "epoch: 2 \tLoss: 38.76(valid)\t|\tAcc: 75.78%(valid) 38\n",
            "epoch: 2 \tLoss: 45.87(train)\t|\tAcc: 70.31%(train) 39\n",
            "epoch: 2 \tLoss: 42.19(valid)\t|\tAcc: 75.78%(valid) 39\n",
            "epoch: 2 \tLoss: 38.02(train)\t|\tAcc: 82.03%(train) 40\n",
            "epoch: 2 \tLoss: 39.79(valid)\t|\tAcc: 71.88%(valid) 40\n",
            "epoch: 2 \tLoss: 43.97(train)\t|\tAcc: 71.09%(train) 41\n",
            "epoch: 2 \tLoss: 40.61(valid)\t|\tAcc: 75.78%(valid) 41\n",
            "epoch: 2 \tLoss: 44.67(train)\t|\tAcc: 69.53%(train) 42\n",
            "epoch: 2 \tLoss: 36.01(valid)\t|\tAcc: 80.47%(valid) 42\n",
            "epoch: 2 \tLoss: 37.85(train)\t|\tAcc: 81.25%(train) 43\n",
            "epoch: 2 \tLoss: 31.40(valid)\t|\tAcc: 79.69%(valid) 43\n",
            "epoch: 2 \tLoss: 41.30(train)\t|\tAcc: 72.66%(train) 44\n",
            "epoch: 2 \tLoss: 42.73(valid)\t|\tAcc: 75.00%(valid) 44\n",
            "epoch: 2 \tLoss: 44.48(train)\t|\tAcc: 70.31%(train) 45\n",
            "epoch: 2 \tLoss: 31.67(valid)\t|\tAcc: 83.59%(valid) 45\n",
            "epoch: 2 \tLoss: 34.28(train)\t|\tAcc: 77.34%(train) 46\n",
            "epoch: 2 \tLoss: 40.18(valid)\t|\tAcc: 75.78%(valid) 46\n",
            "epoch: 2 \tLoss: 36.39(train)\t|\tAcc: 78.12%(train) 47\n",
            "epoch: 2 \tLoss: 38.34(valid)\t|\tAcc: 76.56%(valid) 47\n",
            "epoch: 2 \tLoss: 43.60(train)\t|\tAcc: 73.44%(train) 48\n",
            "epoch: 2 \tLoss: 34.82(valid)\t|\tAcc: 78.91%(valid) 48\n",
            "epoch: 2 \tLoss: 36.67(train)\t|\tAcc: 82.03%(train) 49\n",
            "epoch: 2 \tLoss: 34.09(valid)\t|\tAcc: 76.56%(valid) 49\n",
            "epoch: 2 \tLoss: 37.96(train)\t|\tAcc: 75.78%(train) 50\n",
            "epoch: 2 \tLoss: 35.39(valid)\t|\tAcc: 78.91%(valid) 50\n",
            "epoch: 2 \tLoss: 35.23(train)\t|\tAcc: 83.59%(train) 51\n",
            "epoch: 2 \tLoss: 35.21(valid)\t|\tAcc: 78.12%(valid) 51\n",
            "epoch: 2 \tLoss: 40.82(train)\t|\tAcc: 72.66%(train) 52\n",
            "epoch: 2 \tLoss: 35.76(valid)\t|\tAcc: 75.00%(valid) 52\n",
            "epoch: 2 \tLoss: 35.25(train)\t|\tAcc: 75.78%(train) 53\n",
            "epoch: 2 \tLoss: 30.25(valid)\t|\tAcc: 81.25%(valid) 53\n",
            "epoch: 2 \tLoss: 38.15(train)\t|\tAcc: 75.78%(train) 54\n",
            "epoch: 2 \tLoss: 29.77(valid)\t|\tAcc: 85.94%(valid) 54\n",
            "epoch: 2 \tLoss: 39.91(train)\t|\tAcc: 74.22%(train) 55\n",
            "epoch: 2 \tLoss: 31.22(valid)\t|\tAcc: 86.72%(valid) 55\n",
            "epoch: 2 \tLoss: 35.35(train)\t|\tAcc: 78.91%(train) 56\n",
            "epoch: 2 \tLoss: 33.67(valid)\t|\tAcc: 78.91%(valid) 56\n",
            "epoch: 2 \tLoss: 43.05(train)\t|\tAcc: 71.88%(train) 57\n",
            "epoch: 2 \tLoss: 36.88(valid)\t|\tAcc: 76.56%(valid) 57\n",
            "epoch: 2 \tLoss: 35.58(train)\t|\tAcc: 85.16%(train) 58\n",
            "epoch: 2 \tLoss: 34.51(valid)\t|\tAcc: 79.69%(valid) 58\n",
            "epoch: 2 \tLoss: 34.79(train)\t|\tAcc: 79.69%(train) 59\n",
            "epoch: 2 \tLoss: 39.19(valid)\t|\tAcc: 77.34%(valid) 59\n",
            "epoch: 2 \tLoss: 31.18(train)\t|\tAcc: 82.81%(train) 60\n",
            "epoch: 2 \tLoss: 32.54(valid)\t|\tAcc: 80.47%(valid) 60\n",
            "epoch: 2 \tLoss: 33.41(train)\t|\tAcc: 79.69%(train) 61\n",
            "epoch: 2 \tLoss: 39.83(valid)\t|\tAcc: 78.91%(valid) 61\n",
            "epoch: 2 \tLoss: 32.83(train)\t|\tAcc: 80.47%(train) 62\n",
            "epoch: 2 \tLoss: 42.29(valid)\t|\tAcc: 75.00%(valid) 62\n",
            "epoch: 2 \tLoss: 37.03(train)\t|\tAcc: 80.47%(train) 63\n",
            "epoch: 2 \tLoss: 42.20(valid)\t|\tAcc: 77.34%(valid) 63\n",
            "epoch: 2 \tLoss: 37.74(train)\t|\tAcc: 39.84%(train) 64\n",
            "epoch: 2 \tLoss: 37.84(valid)\t|\tAcc: 78.91%(valid) 64\n",
            "epoch: 3 \tLoss: 42.31(train)\t|\tAcc: 76.56%(train) 65\n",
            "epoch: 3 \tLoss: 37.54(valid)\t|\tAcc: 77.34%(valid) 65\n",
            "epoch: 3 \tLoss: 38.27(train)\t|\tAcc: 74.22%(train) 66\n",
            "epoch: 3 \tLoss: 35.29(valid)\t|\tAcc: 82.03%(valid) 66\n",
            "epoch: 3 \tLoss: 36.27(train)\t|\tAcc: 78.91%(train) 67\n",
            "epoch: 3 \tLoss: 28.40(valid)\t|\tAcc: 85.16%(valid) 67\n",
            "epoch: 3 \tLoss: 43.27(train)\t|\tAcc: 69.53%(train) 68\n",
            "epoch: 3 \tLoss: 43.02(valid)\t|\tAcc: 74.22%(valid) 68\n",
            "epoch: 3 \tLoss: 35.33(train)\t|\tAcc: 78.91%(train) 69\n",
            "epoch: 3 \tLoss: 35.08(valid)\t|\tAcc: 80.47%(valid) 69\n",
            "epoch: 3 \tLoss: 30.93(train)\t|\tAcc: 83.59%(train) 70\n",
            "epoch: 3 \tLoss: 37.12(valid)\t|\tAcc: 80.47%(valid) 70\n",
            "epoch: 3 \tLoss: 59.35(train)\t|\tAcc: 63.28%(train) 71\n",
            "epoch: 3 \tLoss: 54.49(valid)\t|\tAcc: 72.66%(valid) 71\n",
            "epoch: 3 \tLoss: 56.78(train)\t|\tAcc: 70.31%(train) 72\n",
            "epoch: 3 \tLoss: 39.22(valid)\t|\tAcc: 77.34%(valid) 72\n",
            "epoch: 3 \tLoss: 42.92(train)\t|\tAcc: 75.78%(train) 73\n",
            "epoch: 3 \tLoss: 32.24(valid)\t|\tAcc: 82.81%(valid) 73\n",
            "epoch: 3 \tLoss: 37.57(train)\t|\tAcc: 73.44%(train) 74\n",
            "epoch: 3 \tLoss: 32.85(valid)\t|\tAcc: 79.69%(valid) 74\n",
            "epoch: 3 \tLoss: 36.96(train)\t|\tAcc: 75.00%(train) 75\n",
            "epoch: 3 \tLoss: 28.35(valid)\t|\tAcc: 85.16%(valid) 75\n",
            "epoch: 3 \tLoss: 35.07(train)\t|\tAcc: 78.12%(train) 76\n",
            "epoch: 3 \tLoss: 39.21(valid)\t|\tAcc: 75.00%(valid) 76\n",
            "epoch: 3 \tLoss: 38.02(train)\t|\tAcc: 80.47%(train) 77\n",
            "epoch: 3 \tLoss: 40.74(valid)\t|\tAcc: 73.44%(valid) 77\n",
            "epoch: 3 \tLoss: 36.00(train)\t|\tAcc: 82.03%(train) 78\n"
          ],
          "name": "stdout"
        },
        {
          "output_type": "stream",
          "text": [
            "epoch: 3 \tLoss: 37.75(valid)\t|\tAcc: 75.78%(valid) 78\n",
            "epoch: 3 \tLoss: 33.74(train)\t|\tAcc: 82.03%(train) 79\n",
            "epoch: 3 \tLoss: 30.43(valid)\t|\tAcc: 83.59%(valid) 79\n",
            "epoch: 3 \tLoss: 30.11(train)\t|\tAcc: 78.91%(train) 80\n",
            "epoch: 3 \tLoss: 30.86(valid)\t|\tAcc: 79.69%(valid) 80\n",
            "epoch: 3 \tLoss: 35.64(train)\t|\tAcc: 78.91%(train) 81\n",
            "epoch: 3 \tLoss: 39.51(valid)\t|\tAcc: 76.56%(valid) 81\n",
            "epoch: 3 \tLoss: 37.20(train)\t|\tAcc: 75.78%(train) 82\n",
            "epoch: 3 \tLoss: 32.95(valid)\t|\tAcc: 81.25%(valid) 82\n",
            "epoch: 3 \tLoss: 35.23(train)\t|\tAcc: 80.47%(train) 83\n",
            "epoch: 3 \tLoss: 34.29(valid)\t|\tAcc: 78.91%(valid) 83\n",
            "epoch: 3 \tLoss: 35.13(train)\t|\tAcc: 79.69%(train) 84\n",
            "epoch: 3 \tLoss: 27.50(valid)\t|\tAcc: 82.03%(valid) 84\n",
            "epoch: 3 \tLoss: 38.06(train)\t|\tAcc: 79.69%(train) 85\n",
            "epoch: 3 \tLoss: 30.58(valid)\t|\tAcc: 80.47%(valid) 85\n",
            "epoch: 3 \tLoss: 40.42(train)\t|\tAcc: 74.22%(train) 86\n",
            "epoch: 3 \tLoss: 36.16(valid)\t|\tAcc: 77.34%(valid) 86\n",
            "epoch: 3 \tLoss: 33.85(train)\t|\tAcc: 81.25%(train) 87\n",
            "epoch: 3 \tLoss: 30.28(valid)\t|\tAcc: 83.59%(valid) 87\n",
            "epoch: 3 \tLoss: 34.21(train)\t|\tAcc: 80.47%(train) 88\n",
            "epoch: 3 \tLoss: 36.02(valid)\t|\tAcc: 78.12%(valid) 88\n",
            "epoch: 3 \tLoss: 33.50(train)\t|\tAcc: 82.81%(train) 89\n",
            "epoch: 3 \tLoss: 35.06(valid)\t|\tAcc: 79.69%(valid) 89\n",
            "epoch: 3 \tLoss: 34.30(train)\t|\tAcc: 79.69%(train) 90\n",
            "epoch: 3 \tLoss: 31.90(valid)\t|\tAcc: 82.81%(valid) 90\n"
          ],
          "name": "stdout"
        }
      ]
    },
    {
      "cell_type": "markdown",
      "metadata": {
        "id": "aNiu1oTbItw_"
      },
      "source": [
        "## Accuracy and Loss"
      ]
    },
    {
      "cell_type": "code",
      "metadata": {
        "id": "Ty3czjDD9WdI"
      },
      "source": [
        "sns.set(rc={'figure.figsize':(12, 6)})\n",
        "\n",
        "event_list = []\n",
        "total_accuracy = []\n",
        "total_loss = []\n",
        " \n",
        "for (train, val) in zip(train_acc, val_acc):\n",
        "  total_accuracy.append(train)\n",
        "  event_list.append('Training')\n",
        "  total_accuracy.append(val)\n",
        "  event_list.append('Validation')\n",
        "\n",
        "for (train, val) in zip(train_losses, val_losses):\n",
        "  total_loss.append(train)\n",
        "  total_loss.append(val)\n",
        "\n",
        "accuracy_df = pd.concat([train_iter, total_accuracy, event_list])\n",
        "accuracy_df.columns = ['Iteration', 'Accuracy', 'Event']\n",
        "\n",
        "loss_df = pd.concat([train_iter, total_loss, event_list])\n",
        "loss_df.columns = ['Iteration', 'Loss', 'Event']\n",
        "\n",
        "sns.lineplot(x=\"Iteration\", y=\"Accuracy\", hue='Event', ci=68, data=loss_df)\n",
        "sns.lineplot(x=\"Iteration\", y=\"Accuracy\", hue='Event', ci=68, data=accuracy_df)"
      ],
      "execution_count": null,
      "outputs": []
    },
    {
      "cell_type": "markdown",
      "metadata": {
        "id": "5M8187r8Cdtl"
      },
      "source": [
        "**Note**: The accuracy and loss history variables were lost during the re-training process and therefore I have attached images previously saved in my drive for the report."
      ]
    },
    {
      "cell_type": "markdown",
      "metadata": {
        "id": "2ae24jfpItw_"
      },
      "source": [
        "![Loss](https://drive.google.com/uc?export=view&id=1H2kBenqGAJmtNZ-qOsaWdtqU-XqJKoau)\n",
        "\n",
        "![Accuracy](https://drive.google.com/uc?export=view&id=1o2S_Ggwp0chwpHMYxhkvib713m9BLLfK)\n",
        "\n"
      ]
    },
    {
      "cell_type": "markdown",
      "metadata": {
        "id": "wtEccbSNBDm0"
      },
      "source": [
        "## References\n",
        "\n",
        "1. https://github.com/OpenMined/SyferText/blob/master/tutorials/usecases/UC01%20-%20Sentiment%20Classifier%20-%20Private%20Datasets%20-%20(Secure%20Training).ipynb\n",
        "2. https://www.kaggle.com/tboyle10/medicaltranscriptions\n",
        "3. https://www.mtsamples.com/\n",
        "4. https://github.com/OpenMined/SyferText\n",
        "5. https://github.com/OpenMined/PySyft\n",
        "6. https://blog.openmined.org/encrypted-training-medical-text-syfertext/"
      ]
    }
  ]
}